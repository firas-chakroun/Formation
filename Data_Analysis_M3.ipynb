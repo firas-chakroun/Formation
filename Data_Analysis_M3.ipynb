{
  "cells": [
    {
      "cell_type": "markdown",
      "metadata": {
        "id": "view-in-github",
        "colab_type": "text"
      },
      "source": [
        "<a href=\"https://colab.research.google.com/github/firas-chakroun/Formation/blob/main/Data_Analysis_M3.ipynb\" target=\"_parent\"><img src=\"https://colab.research.google.com/assets/colab-badge.svg\" alt=\"Open In Colab\"/></a>"
      ]
    },
    {
      "cell_type": "markdown",
      "metadata": {
        "id": "8s7ku-Ogch6s"
      },
      "source": [
        "# Module 3: Exploratory Data Analysis"
      ]
    },
    {
      "cell_type": "markdown",
      "metadata": {
        "id": "P9KpKi5och6u"
      },
      "source": [
        "### What are the main characteristics which have the most impact on the car price?"
      ]
    },
    {
      "cell_type": "markdown",
      "metadata": {
        "id": "DzpWz1y2ch6v"
      },
      "source": [
        "## 1. Import Data from Module 2"
      ]
    },
    {
      "cell_type": "markdown",
      "metadata": {
        "id": "yXXqtNbsch6v"
      },
      "source": [
        "#### Setup"
      ]
    },
    {
      "cell_type": "code",
      "execution_count": null,
      "metadata": {
        "id": "7sw3pEBAch6v"
      },
      "outputs": [],
      "source": [
        "import pandas as pd\n",
        "import numpy as np"
      ]
    },
    {
      "cell_type": "code",
      "execution_count": null,
      "metadata": {
        "id": "xV3eSi3lch6x",
        "outputId": "7d3770ca-5ba1-4bf2-bff8-5af7fb3be5dc",
        "colab": {
          "base_uri": "https://localhost:8080/",
          "height": 252
        }
      },
      "outputs": [
        {
          "output_type": "error",
          "ename": "ParserError",
          "evalue": "Error tokenizing data. C error: Expected 3 fields in line 28, saw 9\n",
          "traceback": [
            "\u001b[0;31m---------------------------------------------------------------------------\u001b[0m",
            "\u001b[0;31mParserError\u001b[0m                               Traceback (most recent call last)",
            "\u001b[0;32m<ipython-input-2-1dbf66f9b89e>\u001b[0m in \u001b[0;36m<cell line: 3>\u001b[0;34m()\u001b[0m\n\u001b[1;32m      1\u001b[0m \u001b[0mpath\u001b[0m\u001b[0;34m=\u001b[0m\u001b[0;34m'https://ibm.box.com/shared/static/q6iiqb1pd7wo8r3q28jvgsrprzezjqk3.csv'\u001b[0m\u001b[0;34m\u001b[0m\u001b[0;34m\u001b[0m\u001b[0m\n\u001b[1;32m      2\u001b[0m \u001b[0;34m\u001b[0m\u001b[0m\n\u001b[0;32m----> 3\u001b[0;31m \u001b[0mdf\u001b[0m \u001b[0;34m=\u001b[0m \u001b[0mpd\u001b[0m\u001b[0;34m.\u001b[0m\u001b[0mread_csv\u001b[0m\u001b[0;34m(\u001b[0m\u001b[0mpath\u001b[0m\u001b[0;34m)\u001b[0m\u001b[0;34m\u001b[0m\u001b[0;34m\u001b[0m\u001b[0m\n\u001b[0m\u001b[1;32m      4\u001b[0m \u001b[0mdf\u001b[0m\u001b[0;34m.\u001b[0m\u001b[0mhead\u001b[0m\u001b[0;34m(\u001b[0m\u001b[0;34m)\u001b[0m\u001b[0;34m\u001b[0m\u001b[0;34m\u001b[0m\u001b[0m\n",
            "\u001b[0;32m/usr/local/lib/python3.10/dist-packages/pandas/util/_decorators.py\u001b[0m in \u001b[0;36mwrapper\u001b[0;34m(*args, **kwargs)\u001b[0m\n\u001b[1;32m    209\u001b[0m                 \u001b[0;32melse\u001b[0m\u001b[0;34m:\u001b[0m\u001b[0;34m\u001b[0m\u001b[0;34m\u001b[0m\u001b[0m\n\u001b[1;32m    210\u001b[0m                     \u001b[0mkwargs\u001b[0m\u001b[0;34m[\u001b[0m\u001b[0mnew_arg_name\u001b[0m\u001b[0;34m]\u001b[0m \u001b[0;34m=\u001b[0m \u001b[0mnew_arg_value\u001b[0m\u001b[0;34m\u001b[0m\u001b[0;34m\u001b[0m\u001b[0m\n\u001b[0;32m--> 211\u001b[0;31m             \u001b[0;32mreturn\u001b[0m \u001b[0mfunc\u001b[0m\u001b[0;34m(\u001b[0m\u001b[0;34m*\u001b[0m\u001b[0margs\u001b[0m\u001b[0;34m,\u001b[0m \u001b[0;34m**\u001b[0m\u001b[0mkwargs\u001b[0m\u001b[0;34m)\u001b[0m\u001b[0;34m\u001b[0m\u001b[0;34m\u001b[0m\u001b[0m\n\u001b[0m\u001b[1;32m    212\u001b[0m \u001b[0;34m\u001b[0m\u001b[0m\n\u001b[1;32m    213\u001b[0m         \u001b[0;32mreturn\u001b[0m \u001b[0mcast\u001b[0m\u001b[0;34m(\u001b[0m\u001b[0mF\u001b[0m\u001b[0;34m,\u001b[0m \u001b[0mwrapper\u001b[0m\u001b[0;34m)\u001b[0m\u001b[0;34m\u001b[0m\u001b[0;34m\u001b[0m\u001b[0m\n",
            "\u001b[0;32m/usr/local/lib/python3.10/dist-packages/pandas/util/_decorators.py\u001b[0m in \u001b[0;36mwrapper\u001b[0;34m(*args, **kwargs)\u001b[0m\n\u001b[1;32m    329\u001b[0m                     \u001b[0mstacklevel\u001b[0m\u001b[0;34m=\u001b[0m\u001b[0mfind_stack_level\u001b[0m\u001b[0;34m(\u001b[0m\u001b[0;34m)\u001b[0m\u001b[0;34m,\u001b[0m\u001b[0;34m\u001b[0m\u001b[0;34m\u001b[0m\u001b[0m\n\u001b[1;32m    330\u001b[0m                 )\n\u001b[0;32m--> 331\u001b[0;31m             \u001b[0;32mreturn\u001b[0m \u001b[0mfunc\u001b[0m\u001b[0;34m(\u001b[0m\u001b[0;34m*\u001b[0m\u001b[0margs\u001b[0m\u001b[0;34m,\u001b[0m \u001b[0;34m**\u001b[0m\u001b[0mkwargs\u001b[0m\u001b[0;34m)\u001b[0m\u001b[0;34m\u001b[0m\u001b[0;34m\u001b[0m\u001b[0m\n\u001b[0m\u001b[1;32m    332\u001b[0m \u001b[0;34m\u001b[0m\u001b[0m\n\u001b[1;32m    333\u001b[0m         \u001b[0;31m# error: \"Callable[[VarArg(Any), KwArg(Any)], Any]\" has no\u001b[0m\u001b[0;34m\u001b[0m\u001b[0;34m\u001b[0m\u001b[0m\n",
            "\u001b[0;32m/usr/local/lib/python3.10/dist-packages/pandas/io/parsers/readers.py\u001b[0m in \u001b[0;36mread_csv\u001b[0;34m(filepath_or_buffer, sep, delimiter, header, names, index_col, usecols, squeeze, prefix, mangle_dupe_cols, dtype, engine, converters, true_values, false_values, skipinitialspace, skiprows, skipfooter, nrows, na_values, keep_default_na, na_filter, verbose, skip_blank_lines, parse_dates, infer_datetime_format, keep_date_col, date_parser, dayfirst, cache_dates, iterator, chunksize, compression, thousands, decimal, lineterminator, quotechar, quoting, doublequote, escapechar, comment, encoding, encoding_errors, dialect, error_bad_lines, warn_bad_lines, on_bad_lines, delim_whitespace, low_memory, memory_map, float_precision, storage_options)\u001b[0m\n\u001b[1;32m    948\u001b[0m     \u001b[0mkwds\u001b[0m\u001b[0;34m.\u001b[0m\u001b[0mupdate\u001b[0m\u001b[0;34m(\u001b[0m\u001b[0mkwds_defaults\u001b[0m\u001b[0;34m)\u001b[0m\u001b[0;34m\u001b[0m\u001b[0;34m\u001b[0m\u001b[0m\n\u001b[1;32m    949\u001b[0m \u001b[0;34m\u001b[0m\u001b[0m\n\u001b[0;32m--> 950\u001b[0;31m     \u001b[0;32mreturn\u001b[0m \u001b[0m_read\u001b[0m\u001b[0;34m(\u001b[0m\u001b[0mfilepath_or_buffer\u001b[0m\u001b[0;34m,\u001b[0m \u001b[0mkwds\u001b[0m\u001b[0;34m)\u001b[0m\u001b[0;34m\u001b[0m\u001b[0;34m\u001b[0m\u001b[0m\n\u001b[0m\u001b[1;32m    951\u001b[0m \u001b[0;34m\u001b[0m\u001b[0m\n\u001b[1;32m    952\u001b[0m \u001b[0;34m\u001b[0m\u001b[0m\n",
            "\u001b[0;32m/usr/local/lib/python3.10/dist-packages/pandas/io/parsers/readers.py\u001b[0m in \u001b[0;36m_read\u001b[0;34m(filepath_or_buffer, kwds)\u001b[0m\n\u001b[1;32m    609\u001b[0m \u001b[0;34m\u001b[0m\u001b[0m\n\u001b[1;32m    610\u001b[0m     \u001b[0;32mwith\u001b[0m \u001b[0mparser\u001b[0m\u001b[0;34m:\u001b[0m\u001b[0;34m\u001b[0m\u001b[0;34m\u001b[0m\u001b[0m\n\u001b[0;32m--> 611\u001b[0;31m         \u001b[0;32mreturn\u001b[0m \u001b[0mparser\u001b[0m\u001b[0;34m.\u001b[0m\u001b[0mread\u001b[0m\u001b[0;34m(\u001b[0m\u001b[0mnrows\u001b[0m\u001b[0;34m)\u001b[0m\u001b[0;34m\u001b[0m\u001b[0;34m\u001b[0m\u001b[0m\n\u001b[0m\u001b[1;32m    612\u001b[0m \u001b[0;34m\u001b[0m\u001b[0m\n\u001b[1;32m    613\u001b[0m \u001b[0;34m\u001b[0m\u001b[0m\n",
            "\u001b[0;32m/usr/local/lib/python3.10/dist-packages/pandas/io/parsers/readers.py\u001b[0m in \u001b[0;36mread\u001b[0;34m(self, nrows)\u001b[0m\n\u001b[1;32m   1776\u001b[0m                     \u001b[0mcolumns\u001b[0m\u001b[0;34m,\u001b[0m\u001b[0;34m\u001b[0m\u001b[0;34m\u001b[0m\u001b[0m\n\u001b[1;32m   1777\u001b[0m                     \u001b[0mcol_dict\u001b[0m\u001b[0;34m,\u001b[0m\u001b[0;34m\u001b[0m\u001b[0;34m\u001b[0m\u001b[0m\n\u001b[0;32m-> 1778\u001b[0;31m                 \u001b[0;34m)\u001b[0m \u001b[0;34m=\u001b[0m \u001b[0mself\u001b[0m\u001b[0;34m.\u001b[0m\u001b[0m_engine\u001b[0m\u001b[0;34m.\u001b[0m\u001b[0mread\u001b[0m\u001b[0;34m(\u001b[0m  \u001b[0;31m# type: ignore[attr-defined]\u001b[0m\u001b[0;34m\u001b[0m\u001b[0;34m\u001b[0m\u001b[0m\n\u001b[0m\u001b[1;32m   1779\u001b[0m                     \u001b[0mnrows\u001b[0m\u001b[0;34m\u001b[0m\u001b[0;34m\u001b[0m\u001b[0m\n\u001b[1;32m   1780\u001b[0m                 )\n",
            "\u001b[0;32m/usr/local/lib/python3.10/dist-packages/pandas/io/parsers/c_parser_wrapper.py\u001b[0m in \u001b[0;36mread\u001b[0;34m(self, nrows)\u001b[0m\n\u001b[1;32m    228\u001b[0m         \u001b[0;32mtry\u001b[0m\u001b[0;34m:\u001b[0m\u001b[0;34m\u001b[0m\u001b[0;34m\u001b[0m\u001b[0m\n\u001b[1;32m    229\u001b[0m             \u001b[0;32mif\u001b[0m \u001b[0mself\u001b[0m\u001b[0;34m.\u001b[0m\u001b[0mlow_memory\u001b[0m\u001b[0;34m:\u001b[0m\u001b[0;34m\u001b[0m\u001b[0;34m\u001b[0m\u001b[0m\n\u001b[0;32m--> 230\u001b[0;31m                 \u001b[0mchunks\u001b[0m \u001b[0;34m=\u001b[0m \u001b[0mself\u001b[0m\u001b[0;34m.\u001b[0m\u001b[0m_reader\u001b[0m\u001b[0;34m.\u001b[0m\u001b[0mread_low_memory\u001b[0m\u001b[0;34m(\u001b[0m\u001b[0mnrows\u001b[0m\u001b[0;34m)\u001b[0m\u001b[0;34m\u001b[0m\u001b[0;34m\u001b[0m\u001b[0m\n\u001b[0m\u001b[1;32m    231\u001b[0m                 \u001b[0;31m# destructive to chunks\u001b[0m\u001b[0;34m\u001b[0m\u001b[0;34m\u001b[0m\u001b[0m\n\u001b[1;32m    232\u001b[0m                 \u001b[0mdata\u001b[0m \u001b[0;34m=\u001b[0m \u001b[0m_concatenate_chunks\u001b[0m\u001b[0;34m(\u001b[0m\u001b[0mchunks\u001b[0m\u001b[0;34m)\u001b[0m\u001b[0;34m\u001b[0m\u001b[0;34m\u001b[0m\u001b[0m\n",
            "\u001b[0;32m/usr/local/lib/python3.10/dist-packages/pandas/_libs/parsers.pyx\u001b[0m in \u001b[0;36mpandas._libs.parsers.TextReader.read_low_memory\u001b[0;34m()\u001b[0m\n",
            "\u001b[0;32m/usr/local/lib/python3.10/dist-packages/pandas/_libs/parsers.pyx\u001b[0m in \u001b[0;36mpandas._libs.parsers.TextReader._read_rows\u001b[0;34m()\u001b[0m\n",
            "\u001b[0;32m/usr/local/lib/python3.10/dist-packages/pandas/_libs/parsers.pyx\u001b[0m in \u001b[0;36mpandas._libs.parsers.TextReader._tokenize_rows\u001b[0;34m()\u001b[0m\n",
            "\u001b[0;32m/usr/local/lib/python3.10/dist-packages/pandas/_libs/parsers.pyx\u001b[0m in \u001b[0;36mpandas._libs.parsers.raise_parser_error\u001b[0;34m()\u001b[0m\n",
            "\u001b[0;31mParserError\u001b[0m: Error tokenizing data. C error: Expected 3 fields in line 28, saw 9\n"
          ]
        }
      ],
      "source": [
        "path='https://ibm.box.com/shared/static/q6iiqb1pd7wo8r3q28jvgsrprzezjqk3.csv'\n",
        "\n",
        "df = pd.read_csv(path)\n",
        "df.head()"
      ]
    },
    {
      "cell_type": "markdown",
      "metadata": {
        "id": "x7heMzIAch6y"
      },
      "source": [
        "## 2. Analyze Individual Feature Patterns using Visualization"
      ]
    },
    {
      "cell_type": "code",
      "execution_count": null,
      "metadata": {
        "id": "KEGh0Kpnch6y"
      },
      "outputs": [],
      "source": [
        "# Import visualization packages Matplotlib and Seaborn\n",
        "import matplotlib.pyplot as plt\n",
        "import seaborn as sns\n",
        "%matplotlib inline"
      ]
    },
    {
      "cell_type": "markdown",
      "metadata": {
        "id": "SxmpHDLrch6y"
      },
      "source": [
        "### How to choose the right visualization method?\n",
        "\n",
        "When visualizing individual variables, it is important to first understand what type the variable is in order to find the right visualization method for that variable."
      ]
    },
    {
      "cell_type": "code",
      "execution_count": null,
      "metadata": {
        "id": "z8_BwQhIch6y",
        "outputId": "f22d1344-5aea-482b-8546-eb94ca96ba30"
      },
      "outputs": [
        {
          "data": {
            "text/plain": [
              "symboling              int64\n",
              "normalized-losses     object\n",
              "make                  object\n",
              "fuel-type             object\n",
              "aspiration            object\n",
              "num-of-doors          object\n",
              "body-style            object\n",
              "drive-wheels          object\n",
              "engine-location       object\n",
              "wheel-base           float64\n",
              "length               float64\n",
              "width                float64\n",
              "height               float64\n",
              "curb-weight            int64\n",
              "engine-type           object\n",
              "num-of-cylinders      object\n",
              "engine-size            int64\n",
              "fuel-system           object\n",
              "bore                  object\n",
              "stroke                object\n",
              "compression-ratio    float64\n",
              "horsepower            object\n",
              "peak-rpm              object\n",
              "city-mpg               int64\n",
              "highway-mpg            int64\n",
              "price                 object\n",
              "dtype: object"
            ]
          },
          "execution_count": 4,
          "metadata": {},
          "output_type": "execute_result"
        }
      ],
      "source": [
        "# list the data types for each column\n",
        "df.dtypes"
      ]
    },
    {
      "cell_type": "markdown",
      "metadata": {
        "id": "9sCkXC1Cch6z"
      },
      "source": [
        "<div class=\"alert alert-danger alertdanger\" style=\"margin-top: 20px\">\n",
        "<h1> Question  #1: </h1>\n",
        "\n",
        "<b>What is the data type of the colunm \"peak-rpm\"? </b>\n",
        "</div>"
      ]
    },
    {
      "cell_type": "markdown",
      "metadata": {
        "id": "KxzcynNich6z"
      },
      "source": [
        "  <div align=\"right\">\n",
        "<a href=\"#q1\" class=\"btn btn-default\" data-toggle=\"collapse\">Click here for the solution</a>\n",
        "\n",
        "</div>\n",
        "<div id=\"q1\" class=\"collapse\">\n",
        "```\n",
        "float64\n",
        "```\n",
        "</div>\n"
      ]
    },
    {
      "cell_type": "code",
      "execution_count": null,
      "metadata": {
        "id": "aOME3Zw4ch6z",
        "outputId": "80047d23-974b-4b3f-f987-0efb21917e20"
      },
      "outputs": [
        {
          "data": {
            "text/html": [
              "<div>\n",
              "<style scoped>\n",
              "    .dataframe tbody tr th:only-of-type {\n",
              "        vertical-align: middle;\n",
              "    }\n",
              "\n",
              "    .dataframe tbody tr th {\n",
              "        vertical-align: top;\n",
              "    }\n",
              "\n",
              "    .dataframe thead th {\n",
              "        text-align: right;\n",
              "    }\n",
              "</style>\n",
              "<table border=\"1\" class=\"dataframe\">\n",
              "  <thead>\n",
              "    <tr style=\"text-align: right;\">\n",
              "      <th></th>\n",
              "      <th>symboling</th>\n",
              "      <th>wheel-base</th>\n",
              "      <th>length</th>\n",
              "      <th>width</th>\n",
              "      <th>height</th>\n",
              "      <th>curb-weight</th>\n",
              "      <th>engine-size</th>\n",
              "      <th>compression-ratio</th>\n",
              "      <th>city-mpg</th>\n",
              "      <th>highway-mpg</th>\n",
              "    </tr>\n",
              "  </thead>\n",
              "  <tbody>\n",
              "    <tr>\n",
              "      <th>symboling</th>\n",
              "      <td>1.000000</td>\n",
              "      <td>-0.531954</td>\n",
              "      <td>-0.357612</td>\n",
              "      <td>-0.232919</td>\n",
              "      <td>-0.541038</td>\n",
              "      <td>-0.227691</td>\n",
              "      <td>-0.105790</td>\n",
              "      <td>-0.178515</td>\n",
              "      <td>-0.035823</td>\n",
              "      <td>0.034606</td>\n",
              "    </tr>\n",
              "    <tr>\n",
              "      <th>wheel-base</th>\n",
              "      <td>-0.531954</td>\n",
              "      <td>1.000000</td>\n",
              "      <td>0.874587</td>\n",
              "      <td>0.795144</td>\n",
              "      <td>0.589435</td>\n",
              "      <td>0.776386</td>\n",
              "      <td>0.569329</td>\n",
              "      <td>0.249786</td>\n",
              "      <td>-0.470414</td>\n",
              "      <td>-0.544082</td>\n",
              "    </tr>\n",
              "    <tr>\n",
              "      <th>length</th>\n",
              "      <td>-0.357612</td>\n",
              "      <td>0.874587</td>\n",
              "      <td>1.000000</td>\n",
              "      <td>0.841118</td>\n",
              "      <td>0.491029</td>\n",
              "      <td>0.877728</td>\n",
              "      <td>0.683360</td>\n",
              "      <td>0.158414</td>\n",
              "      <td>-0.670909</td>\n",
              "      <td>-0.704662</td>\n",
              "    </tr>\n",
              "    <tr>\n",
              "      <th>width</th>\n",
              "      <td>-0.232919</td>\n",
              "      <td>0.795144</td>\n",
              "      <td>0.841118</td>\n",
              "      <td>1.000000</td>\n",
              "      <td>0.279210</td>\n",
              "      <td>0.867032</td>\n",
              "      <td>0.735433</td>\n",
              "      <td>0.181129</td>\n",
              "      <td>-0.642704</td>\n",
              "      <td>-0.677218</td>\n",
              "    </tr>\n",
              "    <tr>\n",
              "      <th>height</th>\n",
              "      <td>-0.541038</td>\n",
              "      <td>0.589435</td>\n",
              "      <td>0.491029</td>\n",
              "      <td>0.279210</td>\n",
              "      <td>1.000000</td>\n",
              "      <td>0.295572</td>\n",
              "      <td>0.067149</td>\n",
              "      <td>0.261214</td>\n",
              "      <td>-0.048640</td>\n",
              "      <td>-0.107358</td>\n",
              "    </tr>\n",
              "    <tr>\n",
              "      <th>curb-weight</th>\n",
              "      <td>-0.227691</td>\n",
              "      <td>0.776386</td>\n",
              "      <td>0.877728</td>\n",
              "      <td>0.867032</td>\n",
              "      <td>0.295572</td>\n",
              "      <td>1.000000</td>\n",
              "      <td>0.850594</td>\n",
              "      <td>0.151362</td>\n",
              "      <td>-0.757414</td>\n",
              "      <td>-0.797465</td>\n",
              "    </tr>\n",
              "    <tr>\n",
              "      <th>engine-size</th>\n",
              "      <td>-0.105790</td>\n",
              "      <td>0.569329</td>\n",
              "      <td>0.683360</td>\n",
              "      <td>0.735433</td>\n",
              "      <td>0.067149</td>\n",
              "      <td>0.850594</td>\n",
              "      <td>1.000000</td>\n",
              "      <td>0.028971</td>\n",
              "      <td>-0.653658</td>\n",
              "      <td>-0.677470</td>\n",
              "    </tr>\n",
              "    <tr>\n",
              "      <th>compression-ratio</th>\n",
              "      <td>-0.178515</td>\n",
              "      <td>0.249786</td>\n",
              "      <td>0.158414</td>\n",
              "      <td>0.181129</td>\n",
              "      <td>0.261214</td>\n",
              "      <td>0.151362</td>\n",
              "      <td>0.028971</td>\n",
              "      <td>1.000000</td>\n",
              "      <td>0.324701</td>\n",
              "      <td>0.265201</td>\n",
              "    </tr>\n",
              "    <tr>\n",
              "      <th>city-mpg</th>\n",
              "      <td>-0.035823</td>\n",
              "      <td>-0.470414</td>\n",
              "      <td>-0.670909</td>\n",
              "      <td>-0.642704</td>\n",
              "      <td>-0.048640</td>\n",
              "      <td>-0.757414</td>\n",
              "      <td>-0.653658</td>\n",
              "      <td>0.324701</td>\n",
              "      <td>1.000000</td>\n",
              "      <td>0.971337</td>\n",
              "    </tr>\n",
              "    <tr>\n",
              "      <th>highway-mpg</th>\n",
              "      <td>0.034606</td>\n",
              "      <td>-0.544082</td>\n",
              "      <td>-0.704662</td>\n",
              "      <td>-0.677218</td>\n",
              "      <td>-0.107358</td>\n",
              "      <td>-0.797465</td>\n",
              "      <td>-0.677470</td>\n",
              "      <td>0.265201</td>\n",
              "      <td>0.971337</td>\n",
              "      <td>1.000000</td>\n",
              "    </tr>\n",
              "  </tbody>\n",
              "</table>\n",
              "</div>"
            ],
            "text/plain": [
              "                   symboling  wheel-base    length     width    height  \\\n",
              "symboling           1.000000   -0.531954 -0.357612 -0.232919 -0.541038   \n",
              "wheel-base         -0.531954    1.000000  0.874587  0.795144  0.589435   \n",
              "length             -0.357612    0.874587  1.000000  0.841118  0.491029   \n",
              "width              -0.232919    0.795144  0.841118  1.000000  0.279210   \n",
              "height             -0.541038    0.589435  0.491029  0.279210  1.000000   \n",
              "curb-weight        -0.227691    0.776386  0.877728  0.867032  0.295572   \n",
              "engine-size        -0.105790    0.569329  0.683360  0.735433  0.067149   \n",
              "compression-ratio  -0.178515    0.249786  0.158414  0.181129  0.261214   \n",
              "city-mpg           -0.035823   -0.470414 -0.670909 -0.642704 -0.048640   \n",
              "highway-mpg         0.034606   -0.544082 -0.704662 -0.677218 -0.107358   \n",
              "\n",
              "                   curb-weight  engine-size  compression-ratio  city-mpg  \\\n",
              "symboling            -0.227691    -0.105790          -0.178515 -0.035823   \n",
              "wheel-base            0.776386     0.569329           0.249786 -0.470414   \n",
              "length                0.877728     0.683360           0.158414 -0.670909   \n",
              "width                 0.867032     0.735433           0.181129 -0.642704   \n",
              "height                0.295572     0.067149           0.261214 -0.048640   \n",
              "curb-weight           1.000000     0.850594           0.151362 -0.757414   \n",
              "engine-size           0.850594     1.000000           0.028971 -0.653658   \n",
              "compression-ratio     0.151362     0.028971           1.000000  0.324701   \n",
              "city-mpg             -0.757414    -0.653658           0.324701  1.000000   \n",
              "highway-mpg          -0.797465    -0.677470           0.265201  0.971337   \n",
              "\n",
              "                   highway-mpg  \n",
              "symboling             0.034606  \n",
              "wheel-base           -0.544082  \n",
              "length               -0.704662  \n",
              "width                -0.677218  \n",
              "height               -0.107358  \n",
              "curb-weight          -0.797465  \n",
              "engine-size          -0.677470  \n",
              "compression-ratio     0.265201  \n",
              "city-mpg              0.971337  \n",
              "highway-mpg           1.000000  "
            ]
          },
          "execution_count": 5,
          "metadata": {},
          "output_type": "execute_result"
        }
      ],
      "source": [
        "df.corr()"
      ]
    },
    {
      "cell_type": "markdown",
      "metadata": {
        "id": "Bh6F7ib2ch6z"
      },
      "source": [
        " <div class=\"alert alert-danger alertdanger\" style=\"margin-top: 20px\">\n",
        "<h1> Question  #2: </h1>\n",
        "\n",
        "<b> Find the correlation between the following columns: bore, stroke,compression-ratio , and horsepower.\n",
        "<br>Hint: if you would like to select those columns  use the following syntax: df[['bore','stroke' ,'compression-ratio','horsepower']]</bbr>  </b>\n",
        "</div>"
      ]
    },
    {
      "cell_type": "code",
      "execution_count": null,
      "metadata": {
        "id": "JrJPXc5Pch6z",
        "outputId": "056d5ac8-69c8-431a-ef30-828fbc37ad2b"
      },
      "outputs": [
        {
          "data": {
            "text/plain": [
              "<bound method DataFrame.corr of      bore stroke  compression-ratio horsepower\n",
              "0    3.47   2.68                9.0        111\n",
              "1    3.47   2.68                9.0        111\n",
              "2    2.68   3.47                9.0        154\n",
              "3    3.19   3.40               10.0        102\n",
              "4    3.19   3.40                8.0        115\n",
              "..    ...    ...                ...        ...\n",
              "200  3.78   3.15                9.5        114\n",
              "201  3.78   3.15                8.7        160\n",
              "202  3.58   2.87                8.8        134\n",
              "203  3.01   3.40               23.0        106\n",
              "204  3.78   3.15                9.5        114\n",
              "\n",
              "[205 rows x 4 columns]>"
            ]
          },
          "execution_count": 6,
          "metadata": {},
          "output_type": "execute_result"
        }
      ],
      "source": [
        "df[['bore','stroke','compression-ratio','horsepower']].corr"
      ]
    },
    {
      "cell_type": "markdown",
      "metadata": {
        "id": "hgLQszf-ch60"
      },
      "source": [
        " <div align=\"right\">\n",
        "<a href=\"#q2\" class=\"btn btn-default\" data-toggle=\"collapse\">Click here for the solution</a>\n",
        "\n",
        "</div>\n",
        "<div id=\"q2\" class=\"collapse\">\n",
        "```\n",
        "df[['bore','stroke' ,'compression-ratio','horsepower']].corr()  \n",
        "```\n",
        "</div>\n"
      ]
    },
    {
      "cell_type": "markdown",
      "metadata": {
        "id": "nuFk57Vsch60"
      },
      "source": [
        "## Continuous numerical variables:\n",
        "\n",
        "These are variables that may contain any value within some range.\n",
        "\n",
        "Continuous numerical variables can have the type \"int64\" or \"float64\".\n",
        "A great way to visualize these variables is by using scatterplots with fitted lines in order to start understanding the (linear) relationship between an individual variable and the price.\n",
        "We can do this by using \"regplot\", which plots the scatterplot plus the fitted regression line for the data."
      ]
    },
    {
      "cell_type": "markdown",
      "metadata": {
        "id": "SRG2P0tcch60"
      },
      "source": [
        "### Positive linear relationship"
      ]
    },
    {
      "cell_type": "code",
      "execution_count": null,
      "metadata": {
        "id": "rZTwSsdMch60",
        "outputId": "3fa6f552-a1c3-47e3-c510-7d769a4bc355"
      },
      "outputs": [
        {
          "data": {
            "text/plain": [
              "array([ 1.64471535e+00,  7.90049973e-01,  1.36122415e+00,  9.15800193e-01,\n",
              "        1.85039088e+00,  1.12686097e+00,  1.63939180e+00,  1.80090177e+00,\n",
              "        2.33222313e+00,  1.16668977e+00,  1.09175357e+00, -4.71227520e-01,\n",
              "        1.00326926e+00,  1.10805554e+00,  1.16299196e+00, -6.53424272e-01,\n",
              "        3.36982518e-01,  1.69732266e+00,  7.25499743e-01,  7.58000900e-01,\n",
              "        1.65356375e+00,  1.84691358e+00,  1.17999589e+00,  2.07416393e+00,\n",
              "        2.10148361e+00,  5.94068306e-01,  2.77936395e+00,  1.09499649e+00,\n",
              "       -1.12831954e-01,  1.76811955e+00,  5.23197287e-01,  5.77872348e-01,\n",
              "        5.23129823e-01,  7.74380486e-01,  1.00691485e+00,  6.29871542e-01,\n",
              "        8.19759928e-01,  1.02762345e+00,  1.07816205e+00, -1.50115958e-01,\n",
              "       -1.00242583e+00, -9.33323747e-02,  1.18558341e+00,  1.89116879e+00,\n",
              "        1.61966008e+00,  5.54747571e-01,  1.93144011e+00,  3.20564119e+00,\n",
              "       -1.66928586e-01,  1.03285804e+00,  5.17293236e-01,  2.75129369e-01,\n",
              "       -5.06979775e-01,  1.21452777e+00,  1.18312919e+00, -1.19354150e+00,\n",
              "        5.28949509e-01,  1.94608445e+00, -2.32824571e-01,  9.83450880e-01,\n",
              "        7.66250188e-01, -9.47321413e-01,  1.89563574e+00, -2.03184737e-01,\n",
              "        3.56069293e+00,  8.43860707e-01,  2.90072339e-01,  9.07401379e-01,\n",
              "        3.11803416e-01,  1.28918613e+00,  4.49195783e-01,  1.91817904e+00,\n",
              "       -6.24662690e-01,  1.73365812e+00,  1.00208438e+00,  2.82676501e-01,\n",
              "       -2.86380685e-01,  1.21585202e+00, -2.81639532e-01,  2.26716055e+00,\n",
              "        1.74056093e+00, -7.16536202e-01,  1.30459138e+00,  2.94054440e-01,\n",
              "        1.88969159e+00,  1.50426011e+00,  6.27081738e-01,  3.53000050e+00,\n",
              "        1.53797158e+00,  1.14715364e+00,  1.30089987e-01,  1.19420313e+00,\n",
              "        1.07620564e+00,  2.04599397e+00,  1.74319041e+00,  1.34385136e+00,\n",
              "        6.74835695e-01,  9.99108800e-01,  9.46923549e-01,  1.65802389e+00,\n",
              "        1.18734727e+00,  2.07056045e+00,  2.22308227e+00,  8.10214034e-01,\n",
              "       -8.80780014e-01,  7.16834396e-01,  1.70931785e+00,  3.10760668e-01,\n",
              "        1.13334922e+00,  3.13367062e-02,  5.99424665e-01,  5.41763593e-01,\n",
              "        5.87226500e-01,  8.93324241e-01,  2.14047138e+00,  2.00674172e+00,\n",
              "        2.01265557e+00,  2.57942797e-01, -7.13684397e-02,  2.56616503e+00,\n",
              "        2.33521206e-01,  2.13340313e+00, -1.58443269e-01,  2.18771925e+00,\n",
              "        6.42525387e-01,  1.21436523e+00,  1.43004684e+00,  2.20345278e+00,\n",
              "        1.79329209e+00,  1.89921317e+00, -2.39427219e+00,  2.78227849e-01,\n",
              "        1.81875074e-01, -7.53473264e-02,  1.11505596e+00,  2.70625418e+00,\n",
              "       -8.03560495e-01,  1.05802108e+00,  2.65621487e-01,  1.06166629e+00,\n",
              "        1.02827922e+00,  1.05589526e+00,  1.08058456e+00,  2.40884743e+00,\n",
              "        4.60918486e-01,  2.54124268e+00,  2.92917466e+00,  2.07274543e+00,\n",
              "        1.17492504e+00, -9.92364997e-02,  1.32439322e+00, -4.11303562e-01,\n",
              "        1.97460243e+00,  6.54497970e-01,  2.18036236e+00,  9.10096075e-01,\n",
              "       -4.45143031e-01,  1.07177585e-01,  2.33201410e+00,  2.74555071e+00,\n",
              "       -1.95693472e-01,  2.57951494e+00, -1.96233371e-02, -1.13660309e-02,\n",
              "        1.13360020e+00,  1.65884786e+00,  8.65097129e-02,  9.43766775e-01,\n",
              "        1.75978733e+00,  3.11771144e+00,  1.75597595e+00,  8.86177008e-01,\n",
              "        1.93826016e+00,  1.06364618e+00,  1.03563719e-01,  3.14682935e+00,\n",
              "        2.33790335e+00,  8.49126165e-01,  4.99800728e-01, -6.23879689e-01,\n",
              "        1.71603585e+00,  3.19070468e-01,  5.17973952e-01,  1.83258197e+00,\n",
              "        7.60226215e-01,  2.19903082e+00,  1.22019311e+00,  6.50470186e-01,\n",
              "       -1.75705309e-01,  1.19941734e-02, -1.29908383e+00,  1.42685961e+00,\n",
              "       -7.31189202e-01,  5.57070494e-01,  2.46592627e+00,  7.10856959e-01,\n",
              "        5.33706248e-02, -2.92560553e-01,  1.18632799e+00, -1.28682024e-01,\n",
              "        2.23249214e+00,  1.59467454e+00, -2.97397947e-02,  3.53763381e-01,\n",
              "        1.96799534e+00,  6.41898538e-01,  1.36559101e+00,  3.01007218e+00,\n",
              "        1.03964022e+00,  9.44927084e-01, -1.11386261e+00,  1.67914777e+00,\n",
              "        1.66330489e+00, -5.78367820e-01,  6.90058481e-01,  1.45348688e+00,\n",
              "        1.95376499e+00,  1.82833068e+00,  7.72835291e-01,  2.54055835e+00,\n",
              "        7.74441733e-01,  2.30613021e+00,  2.08213720e+00, -2.56676569e-01,\n",
              "        1.16290326e+00,  2.54040751e-01,  2.19107164e+00,  1.00464871e+00,\n",
              "        1.04498187e+00,  1.99748301e+00,  5.37365726e-01, -6.93509642e-01,\n",
              "        1.28240430e+00, -5.16793943e-01, -5.31016324e-02,  1.99034731e+00,\n",
              "        7.94851185e-01,  5.33635445e-01,  5.96751776e-01, -9.72018302e-01,\n",
              "        1.19264013e+00,  1.79575809e+00,  6.91525536e-01,  1.29021568e+00,\n",
              "       -3.30010265e-01,  3.30385840e+00,  1.01429743e+00,  4.63738474e-02,\n",
              "        4.98676928e-01, -4.63246940e-01,  2.65749818e+00,  1.66212683e+00,\n",
              "       -8.65627892e-01,  1.60184719e+00,  1.70773361e+00,  4.79642771e-01,\n",
              "        6.48812672e-01,  7.51062662e-02,  2.47850038e+00,  1.28789084e+00,\n",
              "       -1.41664571e+00,  1.77439444e+00,  7.17093305e-01,  1.77469594e+00,\n",
              "        2.80017975e+00,  1.80186189e+00,  1.16239592e+00,  2.47514445e+00,\n",
              "        1.33508200e+00,  2.27098543e-01, -1.09674065e+00,  1.71934660e+00,\n",
              "        6.21425288e-01,  2.15349456e+00,  1.05769560e+00,  1.64126367e+00,\n",
              "        2.04546827e+00,  1.02625599e+00,  1.42185507e+00,  2.76963406e+00,\n",
              "       -1.79853405e+00,  4.26397454e-01,  7.06807865e-01,  1.90472386e+00,\n",
              "        1.38166522e+00, -6.11628544e-01,  2.50235014e+00,  1.10524356e+00,\n",
              "        1.14408704e+00,  3.70514682e-01,  1.57957669e+00,  8.13683345e-01,\n",
              "        1.08718759e+00,  2.01000750e+00,  2.96778895e-01,  2.00353396e-01,\n",
              "       -3.50445006e-01,  2.26776101e+00,  1.46921372e+00,  2.96665871e+00,\n",
              "        2.57781942e+00,  1.15341959e+00,  9.89537479e-02,  2.46995437e+00,\n",
              "        3.42088903e+00,  3.53286333e-01, -8.47561613e-03,  5.14767067e-02,\n",
              "        1.66558926e+00,  9.10864075e-01,  2.18070100e+00,  5.89550823e-01,\n",
              "        1.31735094e+00, -5.23295731e-01,  5.72412383e-02, -7.35514048e-01,\n",
              "        1.15783336e+00, -4.94325560e-01,  1.00373974e+00,  7.47037925e-01,\n",
              "        4.24366696e-01,  5.30973482e-01,  1.13450161e+00,  7.43041212e-01,\n",
              "        1.37319428e+00,  1.78863964e+00,  7.16905905e-01,  2.39374559e+00,\n",
              "       -1.48137207e+00,  2.41241211e+00,  1.14608753e+00,  6.46075490e-01,\n",
              "        2.73274189e+00, -1.13114186e+00,  1.12304626e+00,  1.24800595e+00,\n",
              "       -1.01366829e-01,  1.34913753e+00,  1.01864179e+00,  6.46926412e-01,\n",
              "       -1.61054144e-01,  4.61342246e-01,  3.04064332e+00,  2.64706593e+00,\n",
              "        5.13632274e-01, -3.59256110e-01,  2.18644992e+00,  5.32301599e-01,\n",
              "        8.61522565e-01,  1.36587386e+00,  2.43408506e+00,  2.07843826e+00,\n",
              "        1.45251086e+00,  2.19069516e+00,  1.75815028e+00,  2.48379006e+00,\n",
              "        1.13729817e+00, -6.11133127e-01,  5.85574541e-01,  1.81303670e+00,\n",
              "        2.64544306e+00,  3.64267366e+00,  3.12942149e-01,  1.51605207e+00,\n",
              "        4.45852725e-01,  2.50238896e-01, -6.72916750e-01,  1.59295119e+00,\n",
              "        2.15847687e+00,  2.86628167e+00, -1.03443908e-01, -6.15304462e-02,\n",
              "        1.34917530e+00,  3.46669055e+00,  1.66331098e+00,  2.49434661e+00,\n",
              "        1.81956605e+00, -1.20520171e+00,  1.78222215e+00,  9.82075732e-01,\n",
              "        1.13384555e+00,  6.06382192e-01, -1.37861500e+00,  2.47808077e+00,\n",
              "        9.47732030e-01,  2.88787894e+00,  6.97058059e-01,  2.01623452e-01,\n",
              "        3.27848973e+00,  1.78277851e+00,  7.60026553e-01, -3.41416585e-02,\n",
              "       -2.18613119e-01,  3.69321499e-02,  1.27939178e+00, -5.83273923e-01,\n",
              "        1.15144924e+00,  2.05045796e+00,  8.86380347e-01,  1.89455573e+00,\n",
              "       -3.31555677e-01,  7.76407096e-01, -4.04670181e-01,  1.72149092e+00,\n",
              "        1.15479343e+00,  1.47359594e+00,  1.93586436e+00,  2.79597871e-01,\n",
              "       -5.09037874e-01,  1.00722948e+00,  9.17770336e-01,  4.91367424e-01,\n",
              "       -1.02741816e+00, -2.59676059e-01,  1.37148297e+00,  5.52552680e-01,\n",
              "        1.23803202e-01,  5.05689676e-02,  1.23642303e+00,  1.91219749e-01,\n",
              "        1.24120277e+00,  1.13244775e+00,  1.09052853e+00,  1.31449424e+00,\n",
              "        4.47152165e+00,  1.20508328e-01, -1.21463610e+00, -1.41144790e-01,\n",
              "       -1.34669035e+00,  1.38171082e+00,  1.46409552e+00, -2.73908689e-01,\n",
              "        2.29821686e+00,  2.01918656e+00,  4.69409576e-01,  2.26433212e+00,\n",
              "        1.59269172e+00,  1.81822318e-01,  8.69582998e-01,  3.21351475e+00,\n",
              "        1.23504310e+00,  1.83363578e+00,  5.30888644e-03,  9.21353093e-01,\n",
              "        1.28635957e+00,  6.49372780e-01,  1.19419524e+00,  2.14964082e+00,\n",
              "        3.15684148e+00,  9.49116519e-01,  1.79376521e+00, -1.22198882e-01,\n",
              "        8.68289408e-01,  1.13170729e+00,  8.40115910e-02,  1.23768101e+00,\n",
              "        1.01242176e+00,  1.09766033e+00, -7.83862392e-01,  9.18088754e-01,\n",
              "        1.30396063e+00,  1.02658669e+00,  4.30766746e+00,  3.52889258e-01,\n",
              "       -5.22427082e-01,  2.31517558e-01,  1.24668357e+00,  1.35081280e+00,\n",
              "        1.13687141e-01,  2.10459005e-01,  1.64099261e+00, -5.42675351e-01,\n",
              "        1.27536686e+00, -2.07819964e-01,  2.19326167e+00,  2.10132775e-01,\n",
              "       -6.71380433e-01,  1.63749870e+00, -4.99507891e-01,  3.50212069e+00,\n",
              "        3.40287933e-01,  2.71923484e+00,  1.23123455e-02,  1.47121276e+00,\n",
              "        2.24609542e+00,  2.72583150e-01,  9.07214235e-01,  4.84497651e-01,\n",
              "        1.55485145e+00,  2.26227082e+00, -1.89217436e-02,  6.39603420e-02,\n",
              "        2.32193545e+00,  3.18287336e+00,  2.95236435e-01,  2.17168212e+00,\n",
              "        1.19763416e+00,  1.96088569e-01,  5.07488954e-01, -5.58360907e-01,\n",
              "        1.87984219e+00, -4.44931015e-01,  3.08861688e+00,  1.56828601e+00,\n",
              "       -8.01843433e-01,  4.05872821e-01,  9.36518970e-01,  2.53314447e+00,\n",
              "        9.01374839e-01, -2.65070678e-02,  1.70131752e+00,  1.59404222e+00,\n",
              "        1.84741484e+00,  1.68343355e+00,  1.10531245e+00,  2.17152334e+00,\n",
              "        1.02382022e+00,  3.52680519e-01,  3.45276228e+00,  1.75589921e+00,\n",
              "        1.48838631e+00,  4.59742717e-01,  1.84609291e+00, -4.25834142e-01,\n",
              "        1.11058862e+00,  9.66991856e-01,  8.14021018e-01,  2.53911213e+00,\n",
              "        1.22895207e+00,  1.07554408e+00, -1.12468032e-02,  1.78855821e+00,\n",
              "        1.09121188e+00,  1.01248445e+00,  1.88317712e+00,  2.32351807e+00,\n",
              "        2.16837804e+00,  1.89633284e+00,  1.15075934e+00,  5.98243068e-01,\n",
              "       -2.94429624e-01,  1.69800946e+00,  2.22557348e+00,  7.31992093e-01,\n",
              "        3.92681721e-01,  1.78704589e+00,  1.89895242e+00,  2.32982429e+00,\n",
              "        2.86629032e-01,  2.49585749e+00,  4.71144031e-01, -2.94100744e-01,\n",
              "        1.44921924e+00,  2.40162689e-01,  1.24719821e+00, -9.37990833e-01,\n",
              "        1.74092150e+00, -6.34706476e-01,  1.61374097e+00,  8.76098296e-01,\n",
              "        1.98379531e+00, -7.74228775e-01,  1.58706683e+00,  3.20973783e+00,\n",
              "        3.26603467e+00,  7.73705761e-01,  2.37437333e+00,  1.02158634e-01,\n",
              "        3.40525918e-01,  2.09150666e+00,  1.43481477e-01,  5.15311082e-01,\n",
              "        1.26841243e+00, -2.57981094e-01,  9.45674339e-01,  8.06666463e-01,\n",
              "        1.59716455e+00,  4.29437994e-01,  3.69929888e-01,  2.95740687e+00,\n",
              "        3.29029713e-01, -5.10445912e-01,  1.76518017e+00,  2.27078373e+00,\n",
              "        1.69645056e+00,  2.24131805e+00, -6.77007287e-02,  3.57478746e-01,\n",
              "        1.82670155e+00,  1.17336115e+00,  1.65079539e+00,  1.35526294e+00,\n",
              "        1.88445512e+00, -4.63121960e-01,  1.46093858e-02,  2.73842447e+00,\n",
              "        1.19934718e+00,  1.08301542e+00, -1.28650912e+00,  1.40729517e+00,\n",
              "        1.09367292e+00,  1.89004874e+00,  9.65773881e-01,  6.65777623e-01,\n",
              "        1.30750614e+00, -1.21518515e+00,  8.17233507e-01,  2.34724082e+00,\n",
              "        8.21209846e-01,  1.07069104e+00,  2.75840733e+00,  5.40671301e-01,\n",
              "        1.90145919e+00,  2.00778638e-01,  1.90177806e+00, -7.70211662e-01,\n",
              "        1.98190209e+00,  1.00603133e-02, -6.20016982e-01,  8.12984847e-01,\n",
              "        1.67279849e+00,  1.35864629e+00,  8.28447334e-01,  3.56156075e-01,\n",
              "        2.08792022e-01,  1.08523432e+00,  1.50764821e+00,  6.75970759e-01,\n",
              "        1.30225890e+00,  5.75407985e-01,  4.69677841e-01,  1.45784895e-01,\n",
              "        6.51377017e-01,  2.61121881e+00,  1.63993143e+00,  2.15523910e+00,\n",
              "        2.55047082e+00, -3.93152752e-01,  1.80045574e+00,  1.75492239e+00,\n",
              "        1.20088189e+00,  1.97083296e-01,  2.39858217e+00, -9.40661533e-01,\n",
              "        1.79740454e+00, -3.63123921e-01, -1.80748084e-01,  1.99624453e+00,\n",
              "       -6.41644628e-01,  7.64650703e-01,  1.12978296e+00,  9.84482871e-01,\n",
              "        1.88349932e+00,  1.80833911e+00,  1.38275696e+00,  3.17968617e+00,\n",
              "       -4.96740596e-01,  1.23291737e+00, -8.73032685e-02, -8.27033923e-01,\n",
              "        6.69591472e-01,  2.82353727e-02,  2.45416680e+00,  2.00148064e+00,\n",
              "       -5.72233567e-01,  1.64313578e+00,  8.95039942e-01,  2.55903101e+00,\n",
              "        6.03925590e-01,  6.40345028e-01,  1.55119945e+00,  2.30619424e+00,\n",
              "        7.29806594e-01,  2.18518801e+00,  2.74141739e-01,  2.32305365e+00,\n",
              "        1.09729050e+00, -4.44628916e-02,  2.21296223e-01,  1.73581683e+00,\n",
              "        9.29571284e-01,  1.53670221e+00,  1.08176282e+00,  5.49025016e-01,\n",
              "        3.88135283e-01,  6.44647858e-01,  3.58906935e+00,  1.07100973e+00,\n",
              "        1.02692074e+00,  1.71283326e-01,  5.45995145e-01,  2.26549516e+00,\n",
              "       -2.00428971e+00,  2.12550947e+00,  1.92079897e+00, -5.50160527e-01,\n",
              "        8.54134310e-01,  1.20521468e-01,  7.96722562e-01,  2.42379418e-01,\n",
              "        1.41632718e+00,  7.55033834e-01,  1.25772142e+00, -6.72578851e-01,\n",
              "        2.57240860e-01,  2.86957824e+00,  2.67789672e+00,  4.59191082e-01,\n",
              "        3.26658736e-01, -2.19519397e+00,  2.05792822e+00,  1.28078273e+00,\n",
              "        1.59070896e+00,  6.29308015e-01,  1.57417527e+00,  4.41226837e-01,\n",
              "        6.31051396e-01,  1.48251561e+00, -3.31625777e-01,  1.61059457e+00,\n",
              "        1.21615157e+00,  8.08982684e-01,  1.79645790e+00,  2.55609844e+00,\n",
              "        9.94646935e-01, -6.65188920e-02,  1.27980013e+00,  1.10166816e+00,\n",
              "        1.30798216e+00,  6.94371231e-01, -1.63693655e-01,  1.90939889e+00,\n",
              "        1.97885148e+00,  1.35776019e+00,  7.37855742e-01,  2.54619868e+00,\n",
              "       -5.24684248e-01,  2.18415955e+00, -1.84749318e-01, -4.55217268e-01,\n",
              "        7.32573664e-01,  6.67563113e-01,  1.86179721e+00,  2.17774040e+00,\n",
              "        1.47962790e+00,  1.70735583e-01, -2.30219368e-01,  7.39062979e-01,\n",
              "        3.28005786e-01, -2.39239135e-01,  7.55204682e-02,  2.51970291e+00,\n",
              "        1.85666917e+00,  1.21210893e-03, -3.60173189e-01,  7.05061660e-01,\n",
              "        1.44599522e+00,  7.81661026e-01,  2.14475390e+00,  4.33090437e-01,\n",
              "        6.75274250e-01,  1.25298813e+00,  1.05483855e+00,  1.55397491e+00,\n",
              "        3.58033931e-01,  3.44774392e-01, -5.82890935e-01,  2.23080395e+00,\n",
              "        1.28252184e+00,  1.29700898e+00, -2.18415911e-01,  3.15703909e+00,\n",
              "        6.05716365e-01,  2.08984588e-02,  1.05805424e+00,  1.44290728e+00,\n",
              "        1.39372610e+00,  1.13415978e+00,  1.84797336e+00,  2.41435003e+00,\n",
              "        2.32373844e+00,  1.89970311e+00,  7.51599398e-01,  2.39175220e+00,\n",
              "        1.72588471e+00,  2.01040383e+00,  1.58949513e+00, -4.14744868e-01,\n",
              "        4.83397772e-02,  1.08229705e+00,  1.89080696e+00, -1.05233574e-01,\n",
              "        1.40415917e+00,  1.34841423e-01,  9.17938107e-01,  2.41210799e+00,\n",
              "        4.74769977e-01,  1.76698608e+00,  8.15304363e-01,  2.50031736e+00,\n",
              "        2.61474956e+00,  4.43722974e-01,  3.21004879e+00,  4.56593631e-01,\n",
              "        6.18131443e-01,  2.69981024e+00,  1.13185469e+00,  1.00664559e+00,\n",
              "       -1.98523980e-01,  2.46302760e+00,  1.72575094e+00,  3.00542515e-01,\n",
              "       -3.72458542e-01,  5.06719765e-01,  7.97615672e-01,  1.07803415e+00,\n",
              "        1.61863327e+00,  3.60493398e-01,  7.27809109e-01,  2.48042093e+00,\n",
              "        2.39050154e+00,  1.09518617e+00,  9.76685364e-02,  1.03423399e+00,\n",
              "        2.54282515e-01,  8.08948425e-01,  1.01964258e+00, -7.55449321e-01,\n",
              "        1.24405566e+00,  5.92839691e-02,  1.53452379e+00, -1.91529700e-01,\n",
              "        6.28513663e-01,  2.68697563e-01,  1.75862859e+00,  5.71985966e-01,\n",
              "        2.42744090e+00,  6.83599243e-01,  1.92028090e+00,  8.16041739e-01,\n",
              "        1.46515034e+00,  5.84231284e-01,  7.07701462e-01,  8.05419777e-01,\n",
              "        6.22146284e-01, -5.59342866e-01,  1.87498988e+00,  9.87003571e-01,\n",
              "        3.71387461e-01,  1.64832014e+00,  8.13561904e-01,  8.63186652e-01,\n",
              "       -4.23112912e-01,  1.43637230e+00,  4.83040450e-01,  1.90139260e+00,\n",
              "        1.56195911e+00,  1.05547475e+00,  1.62576660e+00,  1.54995748e+00,\n",
              "        1.07326153e-01,  1.85124085e+00,  3.32209822e+00,  2.06588633e+00,\n",
              "        1.57337793e+00,  1.93894523e+00,  2.16994999e+00,  1.20326592e+00,\n",
              "       -3.17987485e-01, -1.49019093e-01,  6.63891679e-01,  1.12864777e+00,\n",
              "       -6.09197215e-01,  1.63044614e+00, -6.86348362e-01,  1.33935329e+00,\n",
              "       -5.25943168e-01,  5.82456415e-01,  1.78733248e+00,  4.44483817e-01,\n",
              "        1.77443931e+00,  2.30283363e+00,  1.38403087e+00,  1.22000425e+00,\n",
              "       -3.27896189e-01,  3.30734698e+00,  6.96981425e-01,  1.82109711e+00,\n",
              "        8.67919392e-01, -6.49086458e-01,  1.43851337e+00,  1.81573802e+00,\n",
              "        3.27937305e+00,  8.21330428e-01, -1.04746642e+00,  2.73734314e+00,\n",
              "        9.15742058e-01,  1.42377378e+00,  2.00922016e+00, -6.65907322e-01,\n",
              "       -1.01545238e+00, -1.08239275e+00,  1.30088633e-01,  8.13813867e-01,\n",
              "        8.57537500e-01,  1.24341830e+00,  1.78775591e+00,  1.18475199e+00,\n",
              "        6.57541857e-01,  1.91727836e+00,  1.74960930e+00,  1.84177515e+00,\n",
              "        6.67761844e-01,  8.72780868e-02, -6.80821030e-01, -1.08059872e+00,\n",
              "        6.82841224e-01,  3.16156820e+00,  3.60779947e-01,  1.72051491e+00,\n",
              "        4.94238508e-02,  2.26591172e+00,  1.70681450e+00,  1.76091714e+00,\n",
              "        5.99032691e-01,  1.09511827e+00,  2.81627198e-01,  9.73540270e-01,\n",
              "        1.19780941e+00,  1.63607688e-01,  1.59663223e+00, -6.29636916e-01,\n",
              "        9.78230595e-01, -3.43787296e-01,  2.51071027e+00, -1.36795401e+00,\n",
              "        1.45820811e+00, -8.80697372e-01,  1.20604520e+00, -7.71677933e-03,\n",
              "       -2.12839171e-01,  8.89549323e-01,  2.35510222e+00,  1.67080362e+00,\n",
              "       -4.22405306e-01,  1.27399737e-02,  1.07538121e+00,  1.17025032e-01,\n",
              "        2.92012227e+00,  3.21678409e-01,  7.80128861e-01,  9.43536724e-01,\n",
              "        6.45588242e-01,  7.26112015e-01,  2.11879759e+00, -1.51304308e+00,\n",
              "       -2.93614292e-01,  3.00783856e+00, -2.49145565e-01,  9.47663709e-01,\n",
              "        1.68536110e+00,  3.31554206e-01,  4.27222487e-01,  8.53197107e-01,\n",
              "        2.67740018e+00, -4.21356516e-01,  1.75717572e+00,  1.26377287e+00,\n",
              "        2.85652058e+00,  2.91382059e-01,  2.53965524e+00,  1.02925124e+00,\n",
              "        7.60106042e-01,  1.71381751e+00, -5.68044872e-01,  1.69519524e+00,\n",
              "        1.45007503e+00,  9.32277722e-01,  5.29404845e-01, -1.39746411e+00,\n",
              "        7.58839699e-01,  2.37261810e-02,  4.88720328e-01,  1.62316654e+00,\n",
              "       -9.22083289e-01, -2.67660314e-01,  7.70570562e-01, -1.13387947e+00,\n",
              "        8.36767412e-01,  1.37965328e+00,  1.31314613e+00,  3.61493846e-01,\n",
              "        5.82557357e-01,  1.15755057e+00,  1.38266791e+00,  8.98367098e-01,\n",
              "        2.66157362e+00,  1.70775571e+00,  8.53450377e-01,  1.50738954e+00])"
            ]
          },
          "execution_count": 7,
          "metadata": {},
          "output_type": "execute_result"
        }
      ],
      "source": [
        "np.random.normal(1, 1, 1000)"
      ]
    },
    {
      "cell_type": "code",
      "execution_count": null,
      "metadata": {
        "scrolled": true,
        "id": "TxlbkRsAch61",
        "outputId": "3cfab31b-f7f3-410d-8787-bc3f455f4d57"
      },
      "outputs": [
        {
          "ename": "TypeError",
          "evalue": "can't multiply sequence by non-int of type 'float'",
          "output_type": "error",
          "traceback": [
            "\u001b[1;31m---------------------------------------------------------------------------\u001b[0m",
            "\u001b[1;31mTypeError\u001b[0m                                 Traceback (most recent call last)",
            "Input \u001b[1;32mIn [9]\u001b[0m, in \u001b[0;36m<cell line: 3>\u001b[1;34m()\u001b[0m\n\u001b[0;32m      1\u001b[0m \u001b[38;5;66;03m# Engine size as potential predictor variable of price\u001b[39;00m\n\u001b[0;32m      2\u001b[0m \u001b[38;5;28;01mimport\u001b[39;00m \u001b[38;5;21;01mseaborn\u001b[39;00m \u001b[38;5;28;01mas\u001b[39;00m \u001b[38;5;21;01msns\u001b[39;00m\n\u001b[1;32m----> 3\u001b[0m \u001b[43msns\u001b[49m\u001b[38;5;241;43m.\u001b[39;49m\u001b[43mregplot\u001b[49m\u001b[43m(\u001b[49m\u001b[43mx\u001b[49m\u001b[38;5;241;43m=\u001b[39;49m\u001b[38;5;124;43m\"\u001b[39;49m\u001b[38;5;124;43mengine-size\u001b[39;49m\u001b[38;5;124;43m\"\u001b[39;49m\u001b[43m,\u001b[49m\u001b[43m \u001b[49m\u001b[43my\u001b[49m\u001b[38;5;241;43m=\u001b[39;49m\u001b[38;5;124;43m\"\u001b[39;49m\u001b[38;5;124;43mprice\u001b[39;49m\u001b[38;5;124;43m\"\u001b[39;49m\u001b[43m,\u001b[49m\u001b[43m \u001b[49m\u001b[43mdata\u001b[49m\u001b[38;5;241;43m=\u001b[39;49m\u001b[43mdf\u001b[49m\u001b[43m)\u001b[49m\n\u001b[0;32m      4\u001b[0m plt\u001b[38;5;241m.\u001b[39mylim(\u001b[38;5;241m0\u001b[39m,)\n",
            "File \u001b[1;32m~\\Anaconda3\\lib\\site-packages\\seaborn\\_decorators.py:46\u001b[0m, in \u001b[0;36m_deprecate_positional_args.<locals>.inner_f\u001b[1;34m(*args, **kwargs)\u001b[0m\n\u001b[0;32m     36\u001b[0m     warnings\u001b[38;5;241m.\u001b[39mwarn(\n\u001b[0;32m     37\u001b[0m         \u001b[38;5;124m\"\u001b[39m\u001b[38;5;124mPass the following variable\u001b[39m\u001b[38;5;132;01m{}\u001b[39;00m\u001b[38;5;124m as \u001b[39m\u001b[38;5;132;01m{}\u001b[39;00m\u001b[38;5;124mkeyword arg\u001b[39m\u001b[38;5;132;01m{}\u001b[39;00m\u001b[38;5;124m: \u001b[39m\u001b[38;5;132;01m{}\u001b[39;00m\u001b[38;5;124m. \u001b[39m\u001b[38;5;124m\"\u001b[39m\n\u001b[0;32m     38\u001b[0m         \u001b[38;5;124m\"\u001b[39m\u001b[38;5;124mFrom version 0.12, the only valid positional argument \u001b[39m\u001b[38;5;124m\"\u001b[39m\n\u001b[1;32m   (...)\u001b[0m\n\u001b[0;32m     43\u001b[0m         \u001b[38;5;167;01mFutureWarning\u001b[39;00m\n\u001b[0;32m     44\u001b[0m     )\n\u001b[0;32m     45\u001b[0m kwargs\u001b[38;5;241m.\u001b[39mupdate({k: arg \u001b[38;5;28;01mfor\u001b[39;00m k, arg \u001b[38;5;129;01min\u001b[39;00m \u001b[38;5;28mzip\u001b[39m(sig\u001b[38;5;241m.\u001b[39mparameters, args)})\n\u001b[1;32m---> 46\u001b[0m \u001b[38;5;28;01mreturn\u001b[39;00m f(\u001b[38;5;241m*\u001b[39m\u001b[38;5;241m*\u001b[39mkwargs)\n",
            "File \u001b[1;32m~\\Anaconda3\\lib\\site-packages\\seaborn\\regression.py:863\u001b[0m, in \u001b[0;36mregplot\u001b[1;34m(x, y, data, x_estimator, x_bins, x_ci, scatter, fit_reg, ci, n_boot, units, seed, order, logistic, lowess, robust, logx, x_partial, y_partial, truncate, dropna, x_jitter, y_jitter, label, color, marker, scatter_kws, line_kws, ax)\u001b[0m\n\u001b[0;32m    861\u001b[0m scatter_kws[\u001b[38;5;124m\"\u001b[39m\u001b[38;5;124mmarker\u001b[39m\u001b[38;5;124m\"\u001b[39m] \u001b[38;5;241m=\u001b[39m marker\n\u001b[0;32m    862\u001b[0m line_kws \u001b[38;5;241m=\u001b[39m {} \u001b[38;5;28;01mif\u001b[39;00m line_kws \u001b[38;5;129;01mis\u001b[39;00m \u001b[38;5;28;01mNone\u001b[39;00m \u001b[38;5;28;01melse\u001b[39;00m copy\u001b[38;5;241m.\u001b[39mcopy(line_kws)\n\u001b[1;32m--> 863\u001b[0m \u001b[43mplotter\u001b[49m\u001b[38;5;241;43m.\u001b[39;49m\u001b[43mplot\u001b[49m\u001b[43m(\u001b[49m\u001b[43max\u001b[49m\u001b[43m,\u001b[49m\u001b[43m \u001b[49m\u001b[43mscatter_kws\u001b[49m\u001b[43m,\u001b[49m\u001b[43m \u001b[49m\u001b[43mline_kws\u001b[49m\u001b[43m)\u001b[49m\n\u001b[0;32m    864\u001b[0m \u001b[38;5;28;01mreturn\u001b[39;00m ax\n",
            "File \u001b[1;32m~\\Anaconda3\\lib\\site-packages\\seaborn\\regression.py:370\u001b[0m, in \u001b[0;36m_RegressionPlotter.plot\u001b[1;34m(self, ax, scatter_kws, line_kws)\u001b[0m\n\u001b[0;32m    367\u001b[0m     \u001b[38;5;28mself\u001b[39m\u001b[38;5;241m.\u001b[39mscatterplot(ax, scatter_kws)\n\u001b[0;32m    369\u001b[0m \u001b[38;5;28;01mif\u001b[39;00m \u001b[38;5;28mself\u001b[39m\u001b[38;5;241m.\u001b[39mfit_reg:\n\u001b[1;32m--> 370\u001b[0m     \u001b[38;5;28;43mself\u001b[39;49m\u001b[38;5;241;43m.\u001b[39;49m\u001b[43mlineplot\u001b[49m\u001b[43m(\u001b[49m\u001b[43max\u001b[49m\u001b[43m,\u001b[49m\u001b[43m \u001b[49m\u001b[43mline_kws\u001b[49m\u001b[43m)\u001b[49m\n\u001b[0;32m    372\u001b[0m \u001b[38;5;66;03m# Label the axes\u001b[39;00m\n\u001b[0;32m    373\u001b[0m \u001b[38;5;28;01mif\u001b[39;00m \u001b[38;5;28mhasattr\u001b[39m(\u001b[38;5;28mself\u001b[39m\u001b[38;5;241m.\u001b[39mx, \u001b[38;5;124m\"\u001b[39m\u001b[38;5;124mname\u001b[39m\u001b[38;5;124m\"\u001b[39m):\n",
            "File \u001b[1;32m~\\Anaconda3\\lib\\site-packages\\seaborn\\regression.py:413\u001b[0m, in \u001b[0;36m_RegressionPlotter.lineplot\u001b[1;34m(self, ax, kws)\u001b[0m\n\u001b[0;32m    411\u001b[0m \u001b[38;5;124;03m\"\"\"Draw the model.\"\"\"\u001b[39;00m\n\u001b[0;32m    412\u001b[0m \u001b[38;5;66;03m# Fit the regression model\u001b[39;00m\n\u001b[1;32m--> 413\u001b[0m grid, yhat, err_bands \u001b[38;5;241m=\u001b[39m \u001b[38;5;28;43mself\u001b[39;49m\u001b[38;5;241;43m.\u001b[39;49m\u001b[43mfit_regression\u001b[49m\u001b[43m(\u001b[49m\u001b[43max\u001b[49m\u001b[43m)\u001b[49m\n\u001b[0;32m    414\u001b[0m edges \u001b[38;5;241m=\u001b[39m grid[\u001b[38;5;241m0\u001b[39m], grid[\u001b[38;5;241m-\u001b[39m\u001b[38;5;241m1\u001b[39m]\n\u001b[0;32m    416\u001b[0m \u001b[38;5;66;03m# Get set default aesthetics\u001b[39;00m\n",
            "File \u001b[1;32m~\\Anaconda3\\lib\\site-packages\\seaborn\\regression.py:221\u001b[0m, in \u001b[0;36m_RegressionPlotter.fit_regression\u001b[1;34m(self, ax, x_range, grid)\u001b[0m\n\u001b[0;32m    219\u001b[0m     yhat, yhat_boots \u001b[38;5;241m=\u001b[39m \u001b[38;5;28mself\u001b[39m\u001b[38;5;241m.\u001b[39mfit_logx(grid)\n\u001b[0;32m    220\u001b[0m \u001b[38;5;28;01melse\u001b[39;00m:\n\u001b[1;32m--> 221\u001b[0m     yhat, yhat_boots \u001b[38;5;241m=\u001b[39m \u001b[38;5;28;43mself\u001b[39;49m\u001b[38;5;241;43m.\u001b[39;49m\u001b[43mfit_fast\u001b[49m\u001b[43m(\u001b[49m\u001b[43mgrid\u001b[49m\u001b[43m)\u001b[49m\n\u001b[0;32m    223\u001b[0m \u001b[38;5;66;03m# Compute the confidence interval at each grid point\u001b[39;00m\n\u001b[0;32m    224\u001b[0m \u001b[38;5;28;01mif\u001b[39;00m ci \u001b[38;5;129;01mis\u001b[39;00m \u001b[38;5;28;01mNone\u001b[39;00m:\n",
            "File \u001b[1;32m~\\Anaconda3\\lib\\site-packages\\seaborn\\regression.py:238\u001b[0m, in \u001b[0;36m_RegressionPlotter.fit_fast\u001b[1;34m(self, grid)\u001b[0m\n\u001b[0;32m    236\u001b[0m X, y \u001b[38;5;241m=\u001b[39m np\u001b[38;5;241m.\u001b[39mc_[np\u001b[38;5;241m.\u001b[39mones(\u001b[38;5;28mlen\u001b[39m(\u001b[38;5;28mself\u001b[39m\u001b[38;5;241m.\u001b[39mx)), \u001b[38;5;28mself\u001b[39m\u001b[38;5;241m.\u001b[39mx], \u001b[38;5;28mself\u001b[39m\u001b[38;5;241m.\u001b[39my\n\u001b[0;32m    237\u001b[0m grid \u001b[38;5;241m=\u001b[39m np\u001b[38;5;241m.\u001b[39mc_[np\u001b[38;5;241m.\u001b[39mones(\u001b[38;5;28mlen\u001b[39m(grid)), grid]\n\u001b[1;32m--> 238\u001b[0m yhat \u001b[38;5;241m=\u001b[39m grid\u001b[38;5;241m.\u001b[39mdot(\u001b[43mreg_func\u001b[49m\u001b[43m(\u001b[49m\u001b[43mX\u001b[49m\u001b[43m,\u001b[49m\u001b[43m \u001b[49m\u001b[43my\u001b[49m\u001b[43m)\u001b[49m)\n\u001b[0;32m    239\u001b[0m \u001b[38;5;28;01mif\u001b[39;00m \u001b[38;5;28mself\u001b[39m\u001b[38;5;241m.\u001b[39mci \u001b[38;5;129;01mis\u001b[39;00m \u001b[38;5;28;01mNone\u001b[39;00m:\n\u001b[0;32m    240\u001b[0m     \u001b[38;5;28;01mreturn\u001b[39;00m yhat, \u001b[38;5;28;01mNone\u001b[39;00m\n",
            "File \u001b[1;32m~\\Anaconda3\\lib\\site-packages\\seaborn\\regression.py:234\u001b[0m, in \u001b[0;36m_RegressionPlotter.fit_fast.<locals>.reg_func\u001b[1;34m(_x, _y)\u001b[0m\n\u001b[0;32m    233\u001b[0m \u001b[38;5;28;01mdef\u001b[39;00m \u001b[38;5;21mreg_func\u001b[39m(_x, _y):\n\u001b[1;32m--> 234\u001b[0m     \u001b[38;5;28;01mreturn\u001b[39;00m \u001b[43mnp\u001b[49m\u001b[38;5;241;43m.\u001b[39;49m\u001b[43mlinalg\u001b[49m\u001b[38;5;241;43m.\u001b[39;49m\u001b[43mpinv\u001b[49m\u001b[43m(\u001b[49m\u001b[43m_x\u001b[49m\u001b[43m)\u001b[49m\u001b[38;5;241;43m.\u001b[39;49m\u001b[43mdot\u001b[49m\u001b[43m(\u001b[49m\u001b[43m_y\u001b[49m\u001b[43m)\u001b[49m\n",
            "\u001b[1;31mTypeError\u001b[0m: can't multiply sequence by non-int of type 'float'"
          ]
        },
        {
          "data": {
            "image/png": "[encoded data removed]",
            "text/plain": [
              "<Figure size 432x288 with 1 Axes>"
            ]
          },
          "metadata": {
            "needs_background": "light"
          },
          "output_type": "display_data"
        }
      ],
      "source": [
        "# Engine size as potential predictor variable of price\n",
        "import seaborn as sns\n",
        "sns.regplot(x=\"engine-size\", y=\"price\", data=df)\n",
        "plt.ylim(0,)"
      ]
    },
    {
      "cell_type": "code",
      "execution_count": null,
      "metadata": {
        "id": "9Tg7tm2Tch61"
      },
      "outputs": [],
      "source": [
        "import numpy as np\n",
        "\n",
        "\n",
        "sns.regplot(x=\"engine-size\", y=\"price\", data=df)\n",
        "plt.ylim(0,)"
      ]
    },
    {
      "cell_type": "markdown",
      "metadata": {
        "id": "V-zNCHunch61"
      },
      "source": [
        "#### Positive linear relationship:\n",
        "As the engine-size goes up, the price goes up: this indicates a positive direct correlation between these two variables.\n",
        "\n",
        "Engine size seems like a pretty good predictor of price, since the regression line is almost a perfectly diagonal line."
      ]
    },
    {
      "cell_type": "markdown",
      "metadata": {
        "id": "eLojoMWNch61"
      },
      "source": [
        "### Negative linear relationship"
      ]
    },
    {
      "cell_type": "code",
      "execution_count": null,
      "metadata": {
        "id": "oK7r2Wh8ch61"
      },
      "outputs": [],
      "source": [
        "# Highway mpg as a potential predictor variable of price\n",
        "sns.regplot(x=\"highway-mpg\", y=\"price\", data=df)\n",
        "#plt.ylim(0,)"
      ]
    },
    {
      "cell_type": "markdown",
      "metadata": {
        "id": "FIQ9W6l6ch61"
      },
      "source": [
        "#### Negative linear relationship:\n",
        "As the highway-mpg goes up, the price goes down: this indicates an inverse/ negative relationship between these two variables.\n",
        "\n",
        "Highway mpg could potentially be a predictor of price."
      ]
    },
    {
      "cell_type": "markdown",
      "metadata": {
        "id": "_Wq9rmm_ch61"
      },
      "source": [
        "### Weak Linear Relationship"
      ]
    },
    {
      "cell_type": "code",
      "execution_count": null,
      "metadata": {
        "id": "4BYbUUauch62"
      },
      "outputs": [],
      "source": [
        "# Peak rpm as a predictor variable of price\n",
        "sns.regplot(x=\"peak-rpm\", y=\"price\", data=df)"
      ]
    },
    {
      "cell_type": "markdown",
      "metadata": {
        "id": "HYub3f_Uch62"
      },
      "source": [
        "#### Weak linear relationship:\n",
        "Peak rpm does not seem like a good predictor of price at all, since the regression line is close to horizontal.\n",
        "Also, the data points are very scattered and far from the fitted line, showing that there is a lot of variability and so it is not a reliable variable."
      ]
    },
    {
      "cell_type": "markdown",
      "metadata": {
        "id": "ZLfOIQFYch62"
      },
      "source": [
        " <div class=\"alert alert-danger alertdanger\" style=\"margin-top: 20px\">\n",
        "<h1> Question  3 a): </h1>\n",
        "\n",
        "<b> Find the correlation  between x=\"stroke\", y=\"price\".\n",
        "<br>Hint: if you would like to select those columns  use the following syntax: df[[\"stroke\",\"price\"]]</bbr>  </b>\n",
        "</div>"
      ]
    },
    {
      "cell_type": "code",
      "execution_count": null,
      "metadata": {
        "id": "CSKMFk5Pch62"
      },
      "outputs": [],
      "source": []
    },
    {
      "cell_type": "markdown",
      "metadata": {
        "id": "UUJ-MPAnch62"
      },
      "source": [
        " <div align=\"right\">\n",
        "<a href=\"#q3a\" class=\"btn btn-default\" data-toggle=\"collapse\">Click here for the solution</a>\n",
        "\n",
        "</div>\n",
        "<div id=\"q3a\" class=\"collapse\">\n",
        "```\n",
        "The correlation is 0.0823, the non-diagonal elements of the table.\n",
        "code:df[[\"stroke\",\"price\"]].corr()\n",
        "```\n",
        "</div>"
      ]
    },
    {
      "cell_type": "markdown",
      "metadata": {
        "id": "WcyYL8lEch62"
      },
      "source": [
        " <div class=\"alert alert-danger alertdanger\" style=\"margin-top: 20px\">\n",
        "<h1> Question  3 b): </h1>\n",
        "\n",
        "<b> Given the correlation results between \"price\" and \"stroke\"  do you expect linear regression to perform well. Verify your results using the function \"regplot()\".</bbr>  </b>\n",
        "</div>"
      ]
    },
    {
      "cell_type": "code",
      "execution_count": null,
      "metadata": {
        "id": "lmm4chPFch62"
      },
      "outputs": [],
      "source": []
    },
    {
      "cell_type": "markdown",
      "metadata": {
        "id": "ux5zYmuXch62"
      },
      "source": [
        "  <div align=\"right\">\n",
        "<a href=\"#q3b\" class=\"btn btn-default\" data-toggle=\"collapse\">Click here for the solution</a>\n",
        "\n",
        "</div>\n",
        "<div id=\"q3b\" class=\"collapse\">\n",
        "```\n",
        "There is a weak correlation between the variable 'stroke' and 'price.' as such regression will not work well.  We can see this use \"regplot\" to demonstrate this.\n",
        "\n",
        "Code: sns.regplot(x=\"stroke\", y=\"price\", data=df)\n",
        "```\n",
        "</div>\n"
      ]
    },
    {
      "cell_type": "markdown",
      "metadata": {
        "id": "li2fwHBech62"
      },
      "source": [
        "## Categorical variables\n",
        "\n",
        "These are variables that describe a 'characteristic' of a data unit, and are selected from a small group of categories.\n",
        "The categorical variables can have the type \"object\" or \"int64\".\n",
        "\n",
        "A good way to visualize categorical variables is by using boxplots."
      ]
    },
    {
      "cell_type": "code",
      "execution_count": null,
      "metadata": {
        "scrolled": true,
        "id": "evuaRnusch63"
      },
      "outputs": [],
      "source": [
        "# body-style\n",
        "sns.boxplot(x=\"body-style\", y=\"price\", data=df)"
      ]
    },
    {
      "cell_type": "markdown",
      "metadata": {
        "id": "Blbno792ch63"
      },
      "source": [
        "We see that the distributions of price between the different body-style categories overlap too much, and so body-style would not be a good predictor of price."
      ]
    },
    {
      "cell_type": "code",
      "execution_count": null,
      "metadata": {
        "scrolled": true,
        "id": "qCO_5BX8ch63"
      },
      "outputs": [],
      "source": [
        "# engine-location\n",
        "sns.boxplot(x=\"engine-location\", y=\"price\", data=df)"
      ]
    },
    {
      "cell_type": "markdown",
      "metadata": {
        "id": "WSzbbqOpch63"
      },
      "source": [
        "Here we see that the distribution of price between these two engine-location categories, front and rear, are distinct enough to take engine-location as a potential good predictor of price."
      ]
    },
    {
      "cell_type": "code",
      "execution_count": null,
      "metadata": {
        "scrolled": false,
        "id": "H5vhEm5nch67"
      },
      "outputs": [],
      "source": [
        "# drive-wheels\n",
        "sns.boxplot(x=\"drive-wheels\", y=\"price\", data=df)"
      ]
    },
    {
      "cell_type": "markdown",
      "metadata": {
        "id": "lUkBkv6Gch67"
      },
      "source": [
        "Here we see that the distribution of price between the different drive-wheels categories differs and so drive-wheels could potentially be a predictor of price."
      ]
    },
    {
      "cell_type": "markdown",
      "metadata": {
        "id": "OKsjcvjgch67"
      },
      "source": [
        "## 3. Descriptive Statistical Analysis"
      ]
    },
    {
      "cell_type": "markdown",
      "metadata": {
        "id": "ojMnPKmrch67"
      },
      "source": [
        "Let's first take a look at the variables by utilizing a description method.\n",
        "\n",
        "The \"describe\" function automatically computes basic statistics for all continuous variables. Any NaN values are automatically skipped in these statistics.\n",
        "\n",
        "This will show:\n",
        "- the count of that variable,\n",
        "- the mean,\n",
        "- the standard deviation (std),\n",
        "- the minimum value,\n",
        "- the IQR (Interquartile Range: 25%, 50% and 75%), and\n",
        "- the maximum value.\n",
        "\n",
        "The default setting of \"describe\" skips categorical variables, but we can still do basic analysis on them using describe by passing it as a parameter."
      ]
    },
    {
      "cell_type": "code",
      "execution_count": null,
      "metadata": {
        "id": "Ma3EyYFDch67"
      },
      "outputs": [],
      "source": [
        "# summary statistics using pandas method\n",
        "df.describe()"
      ]
    },
    {
      "cell_type": "code",
      "execution_count": null,
      "metadata": {
        "scrolled": true,
        "id": "lnq-6kk6ch67"
      },
      "outputs": [],
      "source": [
        "df.describe(include=['object'])"
      ]
    },
    {
      "cell_type": "markdown",
      "metadata": {
        "id": "pdP4co1Lch68"
      },
      "source": [
        "Immediately we see that certain categorical variables would be very poor predictors because they are dominated by a single category. Fuel-type, for example, is almost always gas. Another poor predictor is engine-location. Aspiration and engine-type may also be poor predictors."
      ]
    },
    {
      "cell_type": "markdown",
      "metadata": {
        "id": "_KpIap_Wch68"
      },
      "source": [
        "### Value Counts"
      ]
    },
    {
      "cell_type": "markdown",
      "metadata": {
        "id": "wdbqrl7uch68"
      },
      "source": [
        "Value-counts is a good way of understanding how many units of each characteristic/variable we have."
      ]
    },
    {
      "cell_type": "code",
      "execution_count": null,
      "metadata": {
        "scrolled": true,
        "id": "APu3oaC-ch68"
      },
      "outputs": [],
      "source": [
        "# drive-wheels as variable\n",
        "drive_wheels_counts = df['drive-wheels'].value_counts().to_frame()\n",
        "drive_wheels_counts.rename(columns={'drive-wheels': 'value_counts'}, inplace=True)\n",
        "drive_wheels_counts.index.name = 'drive-wheels'\n"
      ]
    },
    {
      "cell_type": "code",
      "execution_count": null,
      "metadata": {
        "id": "G8NGf8fZch68"
      },
      "outputs": [],
      "source": [
        "# engine-location as variable\n",
        "engine_loc_counts = df['engine-location'].value_counts().to_frame()\n",
        "engine_loc_counts.rename(columns={'engine-location': 'value_counts'}, inplace=True)\n",
        "engine_loc_counts.index.name = 'engine-location'\n",
        "engine_loc_counts.head(10)"
      ]
    },
    {
      "cell_type": "markdown",
      "metadata": {
        "id": "NU39jItMch68"
      },
      "source": [
        "As we can tell from looking at the value counts of the engine location, this would not be a good predictor variable for price, since we only have 3 cars with a rear engine and 198 with front engine, so it is skewed. Thus, we are not able to draw any conclusions about the engine location."
      ]
    },
    {
      "cell_type": "markdown",
      "metadata": {
        "id": "PBQnbBvlch68"
      },
      "source": [
        "## 4. Basic of Grouping"
      ]
    },
    {
      "cell_type": "markdown",
      "metadata": {
        "id": "cwmby0fxch68"
      },
      "source": [
        "The groupby function groups the data by different categories of one variable, and analysis can be done on data of an entire category. This allows us to see how one variable affects another more clearly.\n",
        "\n",
        "You can group by one variable. For example, let's group by the variable \"drive-wheels\". We see that there are 3 different categories of drive wheels"
      ]
    },
    {
      "cell_type": "code",
      "execution_count": null,
      "metadata": {
        "id": "iytaPlPvch69"
      },
      "outputs": [],
      "source": [
        "df['drive-wheels'].unique()"
      ]
    },
    {
      "cell_type": "markdown",
      "metadata": {
        "id": "qL_L_VALch69"
      },
      "source": [
        "If we want to know, on average, which type of drive wheel is most valuable, we can group drive wheels and then average them:"
      ]
    },
    {
      "cell_type": "code",
      "execution_count": null,
      "metadata": {
        "id": "Mjjcazxkch69"
      },
      "outputs": [],
      "source": [
        "# grouping results\n",
        "df_group_one=df[['drive-wheels','body-style','price']]\n",
        "df_group_one=df_group_one.groupby(['drive-wheels'],as_index= False).mean()\n",
        "df_group_one"
      ]
    },
    {
      "cell_type": "markdown",
      "metadata": {
        "id": "hWvaFmG2ch69"
      },
      "source": [
        "From our data, it seems rear-wheel drive vehicles are, on average, the most expensive, while 4-wheel and front-wheel are around the same in price.\n",
        "\n",
        "You can also group by multiple variables.\n",
        "\n",
        "For example, let's group by both \"drive-wheels\" and \"body-style\".\n",
        "\n",
        "This groups the dataframe by the unique combinations of these two variables."
      ]
    },
    {
      "cell_type": "code",
      "execution_count": null,
      "metadata": {
        "id": "zoY6qIi2ch69"
      },
      "outputs": [],
      "source": [
        "# grouping results\n",
        "df_gptest=df[['drive-wheels','body-style','price']]\n",
        "grouped_test1=df_gptest.groupby(['drive-wheels','body-style'],as_index= False).mean()\n",
        "grouped_test1"
      ]
    },
    {
      "cell_type": "markdown",
      "metadata": {
        "id": "SjasywTkch69"
      },
      "source": [
        "This grouped data is much easier to visualize when it is made into a pivot table. A pivot table is like an Excel spreadsheet, with one variable along the column and another along the row. Use the pivot function to create a pivot table from the groups.\n",
        "\n",
        "In this case, we will leave the drive-wheel variable as the rows of the table, and pivot body-style to become the columns of the table:"
      ]
    },
    {
      "cell_type": "code",
      "execution_count": null,
      "metadata": {
        "id": "lXAS-j3tch69"
      },
      "outputs": [],
      "source": [
        "grouped_pivot=grouped_test1.pivot(index='drive-wheels',columns='body-style')\n",
        "grouped_pivot"
      ]
    },
    {
      "cell_type": "markdown",
      "metadata": {
        "id": "Zd8Vf2t2ch69"
      },
      "source": [
        "Often, we won't have data for some of the pivot cells. This is not good for what we will do later. We will fill these missing cells with the value 0, but any other value could potentially be used as well."
      ]
    },
    {
      "cell_type": "code",
      "execution_count": null,
      "metadata": {
        "scrolled": true,
        "id": "3idUBY7Och6-"
      },
      "outputs": [],
      "source": [
        "grouped_pivot=grouped_pivot.fillna(0) #fill missing values with 0\n",
        "grouped_pivot"
      ]
    },
    {
      "cell_type": "markdown",
      "metadata": {
        "id": "K9eI4lQlch6-"
      },
      "source": [
        " <div class=\"alert alert-danger alertdanger\" style=\"margin-top: 20px\">\n",
        "<h1> Question  4 : </h1>\n",
        "\n",
        "<b> Use the \"groupby\" function to find the average \"price\" of each car based on \"body-style\" ?  </b>\n",
        "</div>"
      ]
    },
    {
      "cell_type": "code",
      "execution_count": null,
      "metadata": {
        "id": "deYB7MQUch6-"
      },
      "outputs": [],
      "source": [
        "\n"
      ]
    },
    {
      "cell_type": "markdown",
      "metadata": {
        "id": "C_YnTHVAch6-"
      },
      "source": [
        "<div align=\"right\">\n",
        "<a href=\"#q4\" class=\"btn btn-default\" data-toggle=\"collapse\">Click here for the solution</a>\n",
        "\n",
        "</div>\n",
        "<div id=\"q4\" class=\"collapse\">\n",
        "```\n",
        "df[['price','body-style']].groupby(['body-style'],as_index= False).mean()\n",
        "```\n",
        "</div>\n"
      ]
    },
    {
      "cell_type": "markdown",
      "metadata": {
        "id": "gSEdA9NCch6-"
      },
      "source": [
        "## 5. Correlation and Causation"
      ]
    },
    {
      "cell_type": "markdown",
      "metadata": {
        "id": "useKDlyych6-"
      },
      "source": [
        "**Correlation**: a measure of the extent of interdependence between variables.\n",
        "\n",
        "**Causation**: the relationship between cause and effect between two variables.\n",
        "\n",
        "It is important to know the difference between these two and that correlation does not imply causation. Data science tend to be better at finding correlation than finding causation."
      ]
    },
    {
      "cell_type": "code",
      "execution_count": null,
      "metadata": {
        "id": "x9ct7ApTch6-"
      },
      "outputs": [],
      "source": [
        "import matplotlib.pyplot as plt\n",
        "% matplotlib inline"
      ]
    },
    {
      "cell_type": "markdown",
      "metadata": {
        "id": "cWN0WXbmch6_"
      },
      "source": [
        "### Variables: Drive Wheels and Body Style vs Price"
      ]
    },
    {
      "cell_type": "code",
      "execution_count": null,
      "metadata": {
        "scrolled": false,
        "id": "Ruv88IYNch6_"
      },
      "outputs": [],
      "source": [
        "#use the grouped results\n",
        "plt.pcolor(grouped_pivot, cmap='RdBu')\n",
        "plt.colorbar()\n",
        "plt.show()"
      ]
    },
    {
      "cell_type": "markdown",
      "metadata": {
        "id": "2MpX6Hg-ch6_"
      },
      "source": [
        "This is a heatmap, which plots the target variable (price) as we vary two other variables (drive-wheel and body-style). This allows us to visualize how price is related to drive-wheel and body-style, as well as see if drvie-wheel and body-style are themselves related to each other.\n",
        "The default labels convey no useful information to us. Let's change that:"
      ]
    },
    {
      "cell_type": "code",
      "execution_count": null,
      "metadata": {
        "id": "nvsJBjBEch6_"
      },
      "outputs": [],
      "source": [
        "fig, ax=plt.subplots()\n",
        "im=ax.pcolor(grouped_pivot, cmap='RdBu')\n",
        "\n",
        "#label names\n",
        "row_labels=grouped_pivot.columns.levels[1]\n",
        "col_labels=grouped_pivot.index\n",
        "#move ticks and labels to the center\n",
        "ax.set_xticks(np.arange(grouped_pivot.shape[1])+0.5, minor=False)\n",
        "ax.set_yticks(np.arange(grouped_pivot.shape[0])+0.5, minor=False)\n",
        "#insert labels\n",
        "ax.set_xticklabels(row_labels, minor=False)\n",
        "ax.set_yticklabels(col_labels, minor=False)\n",
        "#rotate label if too long\n",
        "plt.xticks(rotation=90)\n",
        "\n",
        "fig.colorbar(im)\n",
        "plt.show()"
      ]
    },
    {
      "cell_type": "markdown",
      "metadata": {
        "id": "3M8CEIxVch6_"
      },
      "source": [
        "Visualization is very important in data science, and Python visualization packages provides great freedom. We will go more in-depth in a separate Python Visualizations course"
      ]
    },
    {
      "cell_type": "markdown",
      "metadata": {
        "id": "TKgo9Z9Ach6_"
      },
      "source": [
        "The main question we want to answer in this module, is \"What are the main characteristics which have the most impact on the car price?\".\n",
        "\n",
        "In order to get a better measure of the important characteristics, we look at the correlation of these variables with the car price, in other words: how is the car price dependent on this variable?"
      ]
    },
    {
      "cell_type": "markdown",
      "metadata": {
        "id": "rEB3XsaJch6_"
      },
      "source": [
        "## Pearson Correlation\n",
        "The Pearson Correlation measures the linear dependence between two variables X and Y.\n",
        "The resulting coefficient is a value between -1 and 1 inclusive, where:\n",
        "- **1**: total positive linear correlation,\n",
        "- **0**: no linear correlation, the two variables most likely do not affect each other\n",
        "- **-1**: total negative linear correlation.\n",
        "\n",
        "**P-value**:\n",
        "What is this P-value? The P-value is the probability value that the correlation between these two variables is statistically significant. Normally, we choose a significance level of 0.05, which means that we are 95% confident that the correlation between the variables is significant.\n",
        "\n",
        "By convention, when the\n",
        "- p-value is < 0.001 we say there is strong evidence that the correlation is significant,\n",
        "- p-value is < 0.05, there is moderate evidence that the correlation is significant,\n",
        "- p-value is < 0.1, there is weak evidence that the correlation is significant, and\n",
        "- p-value is > 0.1, there is no evidence that the correlation is significant."
      ]
    },
    {
      "cell_type": "code",
      "execution_count": null,
      "metadata": {
        "id": "yXTX_nTsch6_"
      },
      "outputs": [],
      "source": [
        "from scipy import stats"
      ]
    },
    {
      "cell_type": "markdown",
      "metadata": {
        "id": "YpqXREPmch7A"
      },
      "source": [
        "### Wheel-base vs Price"
      ]
    },
    {
      "cell_type": "code",
      "execution_count": null,
      "metadata": {
        "id": "IZ3LbVg2ch7A"
      },
      "outputs": [],
      "source": [
        "pearson_coef, p_value = stats.pearsonr(df['wheel-base'], df['price'])\n",
        "print(\"The Pearson Correlation Coefficient is\", pearson_coef, \" with a P-value of P =\", p_value)"
      ]
    },
    {
      "cell_type": "markdown",
      "metadata": {
        "id": "jaWUe3wFch7A"
      },
      "source": [
        "##### Conclusion:\n",
        "Since the p-value is < 0.001, the correlation between wheel-base and price is statistically significant, although the linear relationship isn't extremely strong (~0.585)"
      ]
    },
    {
      "cell_type": "markdown",
      "metadata": {
        "id": "HYXlEk1Rch7A"
      },
      "source": [
        "### Horsepower vs Price"
      ]
    },
    {
      "cell_type": "code",
      "execution_count": null,
      "metadata": {
        "id": "pxBOM82Kch7A"
      },
      "outputs": [],
      "source": [
        "pearson_coef, p_value = stats.pearsonr(df['horsepower'], df['price'])\n",
        "print(\"The Pearson Correlation Coefficient is\", pearson_coef, \" with a P-value of P =\", p_value)"
      ]
    },
    {
      "cell_type": "markdown",
      "metadata": {
        "id": "bd0w80Tuch7A"
      },
      "source": [
        "##### Conclusion:\n",
        "\n",
        "Since the p-value is < 0.001, the correlation between horsepower and price is statistically significant, and the linear relationship is quite strong (~0.809, close to 1)"
      ]
    },
    {
      "cell_type": "markdown",
      "metadata": {
        "id": "71Mvo12ych7B"
      },
      "source": [
        "### Length vs Price"
      ]
    },
    {
      "cell_type": "code",
      "execution_count": null,
      "metadata": {
        "id": "y7LbFZYOch7B"
      },
      "outputs": [],
      "source": [
        "pearson_coef, p_value = stats.pearsonr(df['length'], df['price'])\n",
        "print(\"The Pearson Correlation Coefficient is\", pearson_coef, \" with a P-value of P =\", p_value)"
      ]
    },
    {
      "cell_type": "markdown",
      "metadata": {
        "id": "T4C_vTHcch7B"
      },
      "source": [
        "##### Conclusion:\n",
        "Since the p-value is < 0.001, the correlation between length and price is statistically significant, and the linear relationship is moderately strong (~0.691)."
      ]
    },
    {
      "cell_type": "markdown",
      "metadata": {
        "id": "tRCW0DCGch7B"
      },
      "source": [
        "### Width vs Price"
      ]
    },
    {
      "cell_type": "code",
      "execution_count": null,
      "metadata": {
        "id": "cFun1ijtch7B"
      },
      "outputs": [],
      "source": [
        "pearson_coef, p_value = stats.pearsonr(df['width'], df['price'])\n",
        "print(\"The Pearson Correlation Coefficient is\", pearson_coef, \" with a P-value of P =\", p_value )"
      ]
    },
    {
      "cell_type": "markdown",
      "metadata": {
        "id": "lPHp5mnWch7B"
      },
      "source": [
        "##### Conclusion:\n",
        "\n",
        "Since the p-value is < 0.001, the correlation between width and price is statistically significant, and the linear relationship is quite strong (~0.751)."
      ]
    },
    {
      "cell_type": "markdown",
      "metadata": {
        "id": "N23C7VNpch7B"
      },
      "source": [
        "### Curb-weight vs Price"
      ]
    },
    {
      "cell_type": "code",
      "execution_count": null,
      "metadata": {
        "id": "4ZrOXle0ch7B"
      },
      "outputs": [],
      "source": [
        "pearson_coef, p_value = stats.pearsonr(df['curb-weight'], df['price'])\n",
        "print( \"The Pearson Correlation Coefficient is\", pearson_coef, \" with a P-value of P =\", p_value)"
      ]
    },
    {
      "cell_type": "markdown",
      "metadata": {
        "id": "eW815IHXch7C"
      },
      "source": [
        "##### Conclusion:\n",
        "Since the p-value is < 0.001, the correlation between curb-weight and price is statistically significant, and the linear relationship is quite strong (~0.834)."
      ]
    },
    {
      "cell_type": "markdown",
      "metadata": {
        "id": "4ZLMriVFch7C"
      },
      "source": [
        "### Engine-size vs Price"
      ]
    },
    {
      "cell_type": "code",
      "execution_count": null,
      "metadata": {
        "id": "iPm2Dde0ch7C"
      },
      "outputs": [],
      "source": [
        "pearson_coef, p_value = stats.pearsonr(df['engine-size'], df['price'])\n",
        "print(\"The Pearson Correlation Coefficient is\", pearson_coef, \" with a P-value of P =\", p_value)"
      ]
    },
    {
      "cell_type": "markdown",
      "metadata": {
        "id": "6tzmWMNQch7C"
      },
      "source": [
        "##### Conclusion:\n",
        "Since the p-value is < 0.001, the correlation between engine-size and price is statistically significant, and the linear relationship is very strong (~0.872)."
      ]
    },
    {
      "cell_type": "markdown",
      "metadata": {
        "id": "55aTzPwech7C"
      },
      "source": [
        "### Bore vs Price"
      ]
    },
    {
      "cell_type": "code",
      "execution_count": null,
      "metadata": {
        "id": "BofQnURuch7C"
      },
      "outputs": [],
      "source": [
        "pearson_coef, p_value = stats.pearsonr(df['bore'], df['price'])\n",
        "print(\"The Pearson Correlation Coefficient is\", pearson_coef, \" with a P-value of P =\", p_value )"
      ]
    },
    {
      "cell_type": "markdown",
      "metadata": {
        "id": "CbdSB-Swch7C"
      },
      "source": [
        "##### Conclusion:\n",
        "Since the p-value is < 0.001, the correlation between bore and price is statistically significant, but the linear relationship is only moderate (~0.521)."
      ]
    },
    {
      "cell_type": "markdown",
      "metadata": {
        "id": "ZP0hLpFgch7C"
      },
      "source": [
        "### City-mpg vs Price"
      ]
    },
    {
      "cell_type": "code",
      "execution_count": null,
      "metadata": {
        "id": "gQOJNWyZch7C"
      },
      "outputs": [],
      "source": [
        "pearson_coef, p_value = stats.pearsonr(df['city-mpg'], df['price'])\n",
        "print(\"The Pearson Correlation Coefficient is\", pearson_coef, \" with a P-value of P =\", p_value)"
      ]
    },
    {
      "cell_type": "markdown",
      "metadata": {
        "id": "S018xylKch7D"
      },
      "source": [
        "##### Conclusion:\n",
        "Since the p-value is < 0.001, the correlation between city-mpg and price is statistically significant, and the coefficient of ~ -0.687 shows that the relationship is negative and moderately strong."
      ]
    },
    {
      "cell_type": "markdown",
      "metadata": {
        "id": "03Ft2dTwch7D"
      },
      "source": [
        "### Highway-mpg vs Price"
      ]
    },
    {
      "cell_type": "code",
      "execution_count": null,
      "metadata": {
        "id": "QAAgIvkach7D"
      },
      "outputs": [],
      "source": [
        "pearson_coef, p_value = stats.pearsonr(df['highway-mpg'], df['price'])\n",
        "print( \"The Pearson Correlation Coefficient is\", pearson_coef, \" with a P-value of P =\", p_value )"
      ]
    },
    {
      "cell_type": "markdown",
      "metadata": {
        "id": "2Wpufvuqch7D"
      },
      "source": [
        "##### Conclusion:\n",
        "Since the p-value is < 0.001, the correlation between highway-mpg and price is statistically significant, and the coefficient of ~ -0.705 shows that the relationship is negative and moderately strong."
      ]
    },
    {
      "cell_type": "markdown",
      "metadata": {
        "id": "s31tt7Nnch7D"
      },
      "source": [
        "## 6. ANOVA"
      ]
    },
    {
      "cell_type": "markdown",
      "metadata": {
        "id": "NJp9BRrJch7D"
      },
      "source": [
        "### ANOVA: Analysis of Variance\n",
        "This is a statistical method used to test whether there is significant differences between the means of two or more groups. ANOVA returns two parameters:\n",
        "\n",
        "**F-test score**: ANOVA assumes the means of all groups are the same, calculates how much the actual means deviates from the assumption, and reports it as the F-test score. A larger score means a larger difference between the means.\n",
        "\n",
        "**P-value**: we already saw this when calculating Pearson correlation. P-value tells how statistically significant is our calculated score value\n",
        "\n",
        "If our price variable is strongly correlated with the variable we are analyzing, expect ANOVA to return a large F-test score and a small p-value."
      ]
    },
    {
      "cell_type": "markdown",
      "metadata": {
        "id": "Eeshd4K9ch7D"
      },
      "source": [
        "### Drive Wheels"
      ]
    },
    {
      "cell_type": "markdown",
      "metadata": {
        "id": "0zU19Aq8ch7D"
      },
      "source": [
        "Since ANOVA analyzes the difference between different groups of the same variable, the groupby function will come in handy. Because the ANOVA algorithm averages the data automatically, we do not need to take the average before hand."
      ]
    },
    {
      "cell_type": "code",
      "execution_count": null,
      "metadata": {
        "id": "tCPsUM6Mch7E"
      },
      "outputs": [],
      "source": [
        "grouped_test2=df_gptest[['drive-wheels','price']].groupby(['drive-wheels'])\n",
        "grouped_test2.head(2)"
      ]
    },
    {
      "cell_type": "code",
      "execution_count": null,
      "metadata": {
        "id": "Z8ts762Fch7E"
      },
      "outputs": [],
      "source": [
        "grouped_test2.get_group('4wd')['price']"
      ]
    },
    {
      "cell_type": "code",
      "execution_count": null,
      "metadata": {
        "id": "zuNQUrGPch7E"
      },
      "outputs": [],
      "source": [
        "# this package has already been imported previously\n",
        "# from scipy import stats"
      ]
    },
    {
      "cell_type": "markdown",
      "metadata": {
        "id": "RMtyvz7wch7J"
      },
      "source": [
        "#### All three groups together: 4wd, fwd, and rwd"
      ]
    },
    {
      "cell_type": "code",
      "execution_count": null,
      "metadata": {
        "id": "OBFFKYO3ch7J"
      },
      "outputs": [],
      "source": [
        "# ANOVA\n",
        "f_val, p_val = stats.f_oneway(grouped_test2.get_group('fwd')['price'], grouped_test2.get_group('rwd')['price'], grouped_test2.get_group('4wd')['price'])\n",
        "\n",
        "print( \"ANOVA results: F=\", f_val, \", P =\", p_val)"
      ]
    },
    {
      "cell_type": "markdown",
      "metadata": {
        "id": "eEPuivmWch7J"
      },
      "source": [
        "This is a great result, with a large F test score showing strong correlation and a P value almost 0 showing almost certain statistical significance. But does this mean all 3 tested groups are all this highly correlated?"
      ]
    },
    {
      "cell_type": "markdown",
      "metadata": {
        "id": "8aPhCX69ch7J"
      },
      "source": [
        "#### Separately: fwd and rwd"
      ]
    },
    {
      "cell_type": "code",
      "execution_count": null,
      "metadata": {
        "id": "qYpv_sRLch7J"
      },
      "outputs": [],
      "source": [
        "f_val, p_val = stats.f_oneway(grouped_test2.get_group('fwd')['price'], grouped_test2.get_group('rwd')['price'])\n",
        "\n",
        "print( \"ANOVA results: F=\", f_val, \", P =\", p_val )"
      ]
    },
    {
      "cell_type": "markdown",
      "metadata": {
        "id": "06rjniGLch7J"
      },
      "source": [
        "#### 4wd and rwd"
      ]
    },
    {
      "cell_type": "code",
      "execution_count": null,
      "metadata": {
        "scrolled": true,
        "id": "eNnwuWLWch7K"
      },
      "outputs": [],
      "source": [
        "f_val, p_val = stats.f_oneway(grouped_test2.get_group('4wd')['price'], grouped_test2.get_group('rwd')['price'])\n",
        "\n",
        "print( \"ANOVA results: F=\", f_val, \", P =\", p_val)"
      ]
    },
    {
      "cell_type": "markdown",
      "metadata": {
        "id": "VNu2nOv2ch7K"
      },
      "source": [
        "#### 4wd and fwd"
      ]
    },
    {
      "cell_type": "code",
      "execution_count": null,
      "metadata": {
        "id": "07BhIviSch7K"
      },
      "outputs": [],
      "source": [
        "f_val, p_val = stats.f_oneway(grouped_test2.get_group('4wd')['price'], grouped_test2.get_group('fwd')['price'])\n",
        "\n",
        "print(\"ANOVA results: F=\", f_val, \", P =\", p_val)"
      ]
    },
    {
      "cell_type": "markdown",
      "metadata": {
        "id": "Zy1vDqxHch7K"
      },
      "source": [
        "## Conclusion: Important Variables"
      ]
    },
    {
      "cell_type": "markdown",
      "metadata": {
        "collapsed": true,
        "id": "qyLYWqw3ch7K"
      },
      "source": [
        "We now have a better idea of what our data looks like and which variables are important to take into account when predicting the car price. We have narrowed it down to the following variables:\n",
        "\n",
        "Continuous numerical variables:\n",
        "- Length\n",
        "- Width\n",
        "- Curb-weight\n",
        "- Engine-size\n",
        "- Horsepower\n",
        "- City-mpg\n",
        "- Highway-mpg\n",
        "- Wheel-base\n",
        "- Bore\n",
        "\n",
        "Categorical variables:\n",
        "- Drive-wheels\n",
        "\n",
        "AS we now move into building machine learning models to automate our analysis, feeding the model with variables that meaningfully affect our target variable will improve our model's prediction performance."
      ]
    },
    {
      "cell_type": "markdown",
      "metadata": {
        "collapsed": true,
        "id": "p7PdHBa0ch7K"
      },
      "source": [
        "# About the Authors:  \n",
        "\n",
        "This notebook written by [Mahdi Noorian PhD](https://www.linkedin.com/in/mahdi-noorian-58219234/) ,[Joseph Santarcangelo PhD]( https://www.linkedin.com/in/joseph-s-50398b136/), Bahare Talayian, Eric Xiao, Steven Dong, Parizad , Hima Vsudevan and [Fiorella Wenver](https://www.linkedin.com/in/fiorellawever/).\n"
      ]
    },
    {
      "cell_type": "markdown",
      "metadata": {
        "collapsed": true,
        "id": "Oeg_ayPPch7K"
      },
      "source": [
        "Copyright &copy; 2017 [cognitiveclass.ai](cognitiveclass.ai?utm_source=bducopyrightlink&utm_medium=dswb&utm_campaign=bdu). This notebook and its source code are released under the terms of the [MIT License](https://bigdatauniversity.com/mit-license/).\n"
      ]
    },
    {
      "cell_type": "markdown",
      "metadata": {
        "collapsed": true,
        "id": "qaB-xMTAch7K"
      },
      "source": [
        " <div class=\"alert alert-block alert-info\" style=\"margin-top: 20px\">\n",
        " <a href=\"http://cocl.us/DA0101EN_NotbookLink_bottom\"><img src = \"https://ibm.box.com/shared/static/cy2mwm7519t4z6dxefjpzgtbpi9p8l7h.png\" width = 750, align = \"center\"></a>\n",
        " <h1 align=center><font size = 5> Link</font></h1>"
      ]
    },
    {
      "cell_type": "code",
      "execution_count": null,
      "metadata": {
        "id": "IlER3O9_ch7L"
      },
      "outputs": [],
      "source": []
    }
  ],
  "metadata": {
    "anaconda-cloud": {},
    "kernelspec": {
      "display_name": "Python 3 (ipykernel)",
      "language": "python",
      "name": "python3"
    },
    "language_info": {
      "codemirror_mode": {
        "name": "ipython",
        "version": 3
      },
      "file_extension": ".py",
      "mimetype": "text/x-python",
      "name": "python",
      "nbconvert_exporter": "python",
      "pygments_lexer": "ipython3",
      "version": "3.9.12"
    },
    "colab": {
      "provenance": [],
      "include_colab_link": true
    }
  },
  "nbformat": 4,
  "nbformat_minor": 0
}